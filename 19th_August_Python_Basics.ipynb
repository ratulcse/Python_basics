{
 "cells": [
  {
   "cell_type": "code",
   "execution_count": 4,
   "id": "89567cbd-9657-47c3-96d7-cdd5bb82993c",
   "metadata": {},
   "outputs": [
    {
     "name": "stdin",
     "output_type": "stream",
     "text": [
      "Enter the first number 10\n",
      "Enter the second number 20\n"
     ]
    },
    {
     "name": "stdout",
     "output_type": "stream",
     "text": [
      "Before swap the values are 10 20\n",
      "After swap the values are 20 10\n"
     ]
    }
   ],
   "source": [
    "#Swap two numbers without using 3rd variable \n",
    "x=int(input(\"Enter the first number\"))\n",
    "y=int(input(\"Enter the second number\"))\n",
    "print(\"Before swap the values are\",x,y)\n",
    "x=x+y\n",
    "y=x-y\n",
    "x=x-y\n",
    "print(\"After swap the values are\",x,y)"
   ]
  },
  {
   "cell_type": "code",
   "execution_count": 6,
   "id": "3bbb9f29-a072-4708-bf11-1f6cd89252da",
   "metadata": {},
   "outputs": [
    {
     "name": "stdin",
     "output_type": "stream",
     "text": [
      "Enter the first number 10\n",
      "Enter the second number 5\n"
     ]
    },
    {
     "name": "stdout",
     "output_type": "stream",
     "text": [
      "The area of the rectangle is 50\n"
     ]
    }
   ],
   "source": [
    "#Area of a rectangle\n",
    "length=int(input(\"Enter the first number\"))\n",
    "width=int(input(\"Enter the second number\"))\n",
    "area=length*width\n",
    "print(\"The area of the rectangle is\",area)"
   ]
  },
  {
   "cell_type": "code",
   "execution_count": 2,
   "id": "865689b5-846c-4063-a45b-5b998b0072e8",
   "metadata": {},
   "outputs": [
    {
     "name": "stdin",
     "output_type": "stream",
     "text": [
      "Enter the temparature in celsius 10\n"
     ]
    },
    {
     "name": "stdout",
     "output_type": "stream",
     "text": [
      "The equivalent fahrenheit temparature is 50.0\n"
     ]
    }
   ],
   "source": [
    "#Celsius to fahrenheit conversion \n",
    "cel=int(input(\"Enter the temparature in celsius\"))\n",
    "fah=((9*cel)/5.0)+32\n",
    "print(\"The equivalent fahrenheit temparature is\",fah)\n",
    "\n"
   ]
  },
  {
   "cell_type": "code",
   "execution_count": 1,
   "id": "aed4e995-704f-4be1-b902-4fdd3d1f0122",
   "metadata": {},
   "outputs": [
    {
     "name": "stdin",
     "output_type": "stream",
     "text": [
      "Enter the string ratul\n"
     ]
    },
    {
     "name": "stdout",
     "output_type": "stream",
     "text": [
      "The length of the string is 5\n"
     ]
    }
   ],
   "source": [
    "#Find the length a string\n",
    "str=input(\"Enter the string\")\n",
    "print(\"The length of the string is\",len(str))\n",
    "\n"
   ]
  },
  {
   "cell_type": "code",
   "execution_count": 5,
   "id": "ff8d9516-ea5f-4f99-9112-3bf6bc9bf16c",
   "metadata": {},
   "outputs": [
    {
     "name": "stdin",
     "output_type": "stream",
     "text": [
      "Enter the sentence my name is ratul\n"
     ]
    },
    {
     "name": "stdout",
     "output_type": "stream",
     "text": [
      "The number of vowels in the sentence are 5\n"
     ]
    }
   ],
   "source": [
    "# Number of vowels from a sentence\n",
    "str1=input(\"Enter the sentence\")\n",
    "i=0\n",
    "count=0\n",
    "while(i<len(str1)):\n",
    "    if(str1[i]=='a' or str1[i]=='e' or str1[i]=='i' or str1[i]=='o' or str1[i]=='u' or str1[i]=='A' or str1[i]=='E' or str1[i]=='I' or str1[i]=='O' or str1[i]=='U'):\n",
    "        count=count+1\n",
    "    i=i+1\n",
    "print(\"The number of vowels in the sentence are\",count)   \n",
    "\n",
    "\n",
    "     "
   ]
  },
  {
   "cell_type": "code",
   "execution_count": 7,
   "id": "b661559a-c93d-48d2-8925-46e79ef686aa",
   "metadata": {},
   "outputs": [
    {
     "name": "stdin",
     "output_type": "stream",
     "text": [
      "Enter the string Ratul\n"
     ]
    },
    {
     "data": {
      "text/plain": [
       "'lutaR'"
      ]
     },
     "execution_count": 7,
     "metadata": {},
     "output_type": "execute_result"
    }
   ],
   "source": [
    "#String reverse\n",
    "str=input(\"Enter the string\")\n",
    "print(str[::-1])\n"
   ]
  },
  {
   "cell_type": "code",
   "execution_count": 5,
   "id": "434662fc-d5b9-4a3c-87c1-6fbface9c351",
   "metadata": {},
   "outputs": [
    {
     "name": "stdin",
     "output_type": "stream",
     "text": [
      "Enter the string madam\n"
     ]
    },
    {
     "name": "stdout",
     "output_type": "stream",
     "text": [
      "madam\n",
      "The entered string is palindrome\n"
     ]
    }
   ],
   "source": [
    "#String palindrome\n",
    "str2=input(\"Enter the string\")\n",
    "str3=\"\"\n",
    "for i in str2:\n",
    "    str3=i+str3\n",
    "print(str3)    \n",
    "if str2==str3:\n",
    "    print(\"The entered string is palindrome\")\n",
    "else:\n",
    "    print(\"The entered string is not palindrome\")\n",
    "    "
   ]
  },
  {
   "cell_type": "code",
   "execution_count": 6,
   "id": "7ee9ac40-a200-491d-bbdb-4f8a31356ebc",
   "metadata": {},
   "outputs": [
    {
     "name": "stdin",
     "output_type": "stream",
     "text": [
      "Enter the string My name is Ratul Chowdhury\n"
     ]
    },
    {
     "name": "stdout",
     "output_type": "stream",
     "text": [
      " After space elimination the string is  MynameisRatulChowdhury\n"
     ]
    }
   ],
   "source": [
    "#Space elimination from a string\n",
    "str4=input(\"Enter the string\")\n",
    "str5=\"\"\n",
    "i=0\n",
    "while(i<len(str4)):\n",
    "    if(str4[i]!=\" \"):\n",
    "        str5=str5+str4[i]\n",
    "    i=i+1\n",
    "print(\" After space elimination the string is \", str5)   "
   ]
  }
 ],
 "metadata": {
  "kernelspec": {
   "display_name": "Python 3 (ipykernel)",
   "language": "python",
   "name": "python3"
  },
  "language_info": {
   "codemirror_mode": {
    "name": "ipython",
    "version": 3
   },
   "file_extension": ".py",
   "mimetype": "text/x-python",
   "name": "python",
   "nbconvert_exporter": "python",
   "pygments_lexer": "ipython3",
   "version": "3.10.8"
  }
 },
 "nbformat": 4,
 "nbformat_minor": 5
}
