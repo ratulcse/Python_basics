{
 "cells": [
  {
   "cell_type": "code",
   "execution_count": 14,
   "id": "6db0c618",
   "metadata": {},
   "outputs": [
    {
     "name": "stdout",
     "output_type": "stream",
     "text": [
      "Account details 2006543 Ratul Chowdhury 10000\n",
      "Present balance after deposit is 12000\n",
      "Present balance after withdraw is 9000\n"
     ]
    }
   ],
   "source": [
    "#Problem 1: Bank Account Create a class representing a bank account with attributes like account number, account holder name, and balance. Implement methods to deposit and withdraw money from the account.\n",
    "class Bank_Account:\n",
    "    def __init__(self,account_number, accountholder_name,initial_balance):\n",
    "        self.account_number=account_number\n",
    "        self.accountholder_name=accountholder_name\n",
    "        self.balance=initial_balance\n",
    "        print(\"Account details\",self.account_number,self.accountholder_name,self.balance)\n",
    "    def deposit(self,amount_deposited):\n",
    "         self.balance=self.balance+amount_deposited\n",
    "         print(\"Present balance after deposit is\",self.balance)\n",
    "    def withdraw(self,amount_withdrawl):\n",
    "        if(self.balance<amount_withdrawl):\n",
    "            print(\"Insifficient balance\")\n",
    "            sys.exit()\n",
    "        self.balance=self.balance-amount_withdrawl\n",
    "        print(\"Present balance after withdraw is\",self.balance)        \n",
    "            \n",
    "obj=Bank_Account(2006543,\"Ratul Chowdhury\",10000)\n",
    "obj.deposit(2000)\n",
    "obj.withdraw(3000)\n",
    "\n",
    "\n",
    "\n",
    "\n",
    "\n"
   ]
  },
  {
   "cell_type": "code",
   "execution_count": 3,
   "id": "a2b596f7",
   "metadata": {},
   "outputs": [
    {
     "name": "stdout",
     "output_type": "stream",
     "text": [
      "The details of the employee is E1001 Ratul 50000\n",
      "Enhanced salary after bonus 55000\n",
      "The details of the employee is E1002 Atul 45000\n",
      "Enhanced salary after bonus 51750\n"
     ]
    }
   ],
   "source": [
    "#2.Problem 2: Employee Management Create a class representing an employee with attributes like employee ID, name, and salary. Implement methods to calculate the yearly bonus and display employee details.\n",
    "class Employee:\n",
    "    def __init__(self,employee_ID, name,salary):\n",
    "        self.employee_ID=employee_ID\n",
    "        self.name=name\n",
    "        self.salary=salary\n",
    "    def yearly_bonus(self,bonus_percentage):\n",
    "        self.salary=self.salary+(self.salary*bonus_percentage)//100\n",
    "        print(\"Enhanced salary after bonus\",self.salary)\n",
    "    def display(self):\n",
    "        print(\"The details of the employee is\",self.employee_ID,self.name,self.salary)\n",
    "\n",
    "obj=Employee(\"E1001\",\"Ratul\",50000)\n",
    "obj.display()\n",
    "obj.yearly_bonus(10)\n",
    "obj1=Employee(\"E1002\",\"Atul\",45000)\n",
    "obj1.display()\n",
    "obj1.yearly_bonus(15)\n",
    "\n",
    "\n"
   ]
  },
  {
   "cell_type": "code",
   "execution_count": 22,
   "id": "b051bfbd",
   "metadata": {},
   "outputs": [
    {
     "name": "stdout",
     "output_type": "stream",
     "text": [
      "\t Mini : 20\n",
      "\t Micro : 10\n",
      "\t Sedan : 15\n",
      "Sufficient number of cars are not available\n",
      "\t Mini : 20\n",
      "\t Micro : 10\n",
      "\t Sedan : 15\n"
     ]
    }
   ],
   "source": [
    "#3.Vehicle Rental Create a class representing a vehicle rental system. Implement methods to rent a vehicle, return a vehicle, and display available vehicles.\n",
    "class Vehicle_Rental:\n",
    "    veh={}\n",
    "    def add_vehicles(self,vehicle_type,no_of_vehicles):\n",
    "        self.vehicle_type=vehicle_type\n",
    "        self.no_of_vehicles=no_of_vehicles\n",
    "        self.veh[vehicle_type]=no_of_vehicles\n",
    "    def rent(self,type,no_of_vehicles_required):\n",
    "        self.type=type\n",
    "        self.no_of_vehicles_required=no_of_vehicles_required\n",
    "        for k in self.veh.keys():\n",
    "            if k==type:\n",
    "                if no_of_vehicles_required<=self.veh[k]:\n",
    "                    print(\"order confirmed\")\n",
    "                    self.veh[k]=self.veh[k]-no_of_vehicles_required\n",
    "                    return type\n",
    "                else:\n",
    "                    return False\n",
    "    def display(self):\n",
    "        for x in self.veh:\n",
    "            print(\"\\t\",x,\":\",self.veh[x])\n",
    "                \n",
    "obj=Vehicle_Rental()\n",
    "obj.add_vehicles(\"Mini\",20)\n",
    "obj.add_vehicles(\"Micro\",10)\n",
    "obj.add_vehicles(\"Sedan\",15)\n",
    "obj.display()\n",
    "k=obj.rent(\"Mini\",25)\n",
    "if k==False:\n",
    "    print(\"Booking not confirmed because sufficient number of required cars are not available\")\n",
    "else:\n",
    "    print(f\"Your have successfully booked {k} type of car\")\n",
    "\n",
    "obj.display()\n",
    "    \n",
    "    "
   ]
  },
  {
   "cell_type": "code",
   "execution_count": 38,
   "id": "4d77cafd",
   "metadata": {},
   "outputs": [
    {
     "name": "stdout",
     "output_type": "stream",
     "text": [
      "\t Operating System : 20\n",
      "\t Data structure : 15\n",
      "\t Python : 20\n",
      "Book issued and remaining books:\n",
      "\t Operating System : 19\n",
      "\t Data structure : 15\n",
      "\t Python : 20\n"
     ]
    }
   ],
   "source": [
    "#Problem 4: Library Catalog Create classes representing a library and a book. Implement methods to add books to the library, borrow books, and display available books.\n",
    "class book:\n",
    "    d={}\n",
    "    def add_books(self,bname,no_of_quantity):\n",
    "        self.bname=bname\n",
    "        self.no_of_quantity=no_of_quantity\n",
    "        book.d[bname]=no_of_quantity\n",
    "        \n",
    "class library(book):\n",
    "    def borrow_books(self,bname_borrowed):\n",
    "        self.bname_borrowed=bname_borrowed\n",
    "        for k in self.d.keys():\n",
    "            if(k==bname_borrowed):\n",
    "                if(self.d[bname_borrowed]>0):\n",
    "                    print(\"Book issued and remaining books:\")\n",
    "                    self.d[bname_borrowed]=self.d[bname_borrowed]-1\n",
    "                else:\n",
    "                    print(\"Insufficient books,currently not available\")\n",
    "        \n",
    "    def display_books(self):\n",
    "        for x in self.d:\n",
    "            print(\"\\t\",x,\":\",self.d[x])\n",
    "obj=library()\n",
    "obj.add_books(\"Operating System\",20)\n",
    "obj.add_books(\"Data structure\",15)\n",
    "obj.add_books(\"Python\",20)\n",
    "obj.display_books()\n",
    "obj.borrow_books(\"Operating System\")\n",
    "obj.display_books()"
   ]
  },
  {
   "cell_type": "code",
   "execution_count": 35,
   "id": "31083397",
   "metadata": {},
   "outputs": [
    {
     "name": "stdout",
     "output_type": "stream",
     "text": [
      "\t x : 20\n",
      "\t y : 15\n",
      "\t z : 25\n",
      "order confirmed and remaining amount:\n",
      "\t x : 20\n",
      "\t y : 5\n",
      "\t z : 25\n"
     ]
    }
   ],
   "source": [
    "#Problem 5: Product Inventory Create classes representing a product and an inventory system. Implement methods to add products to the inventory, update product quantity, and display available products.\n",
    "class product:\n",
    "    prod={}\n",
    "    def add_product(self,type,quantity):\n",
    "        self.type=type\n",
    "        self.quantity=quantity\n",
    "        self.prod[self.type]=self.quantity\n",
    "class inventory_system(product):\n",
    "    def update_product_quantity(self,required_type,required_quantity):\n",
    "        self.required_type=required_type\n",
    "        self.required_quantity=required_quantity\n",
    "        for x in self.prod.keys():\n",
    "            if x==self.required_type:\n",
    "                if self.required_quantity<=self.prod[x]:\n",
    "                    print(\"order confirmed and remaining amount:\")\n",
    "                    self.prod[x]=self.prod[x]-self.required_quantity                \n",
    "                else:\n",
    "                    print(\"Sufficient number of products are not available\")\n",
    "    def display_product(self):\n",
    "        for k in self.prod:\n",
    "            print(\"\\t\",k,\":\",self.prod[k])                    \n",
    "                                \n",
    "obj=inventory_system() \n",
    "obj.add_product(\"x\",20)                                \n",
    "obj.add_product(\"y\",15)                                 \n",
    "obj.add_product(\"z\",25) \n",
    "obj.display_product()                                \n",
    "obj.update_product_quantity(\"y\",10)  \n",
    "obj.display_product()                                 \n",
    "\n",
    "\n",
    "\n"
   ]
  },
  {
   "cell_type": "code",
   "execution_count": 41,
   "id": "f0ad2a3a",
   "metadata": {},
   "outputs": [
    {
     "name": "stdout",
     "output_type": "stream",
     "text": [
      "The area and perimeter of Rectangle are 50 30\n",
      "The area and perimeter of Square are 25 20\n",
      "The area and perimeter of Right-Angled Triangle are 30.0 30.0\n"
     ]
    }
   ],
   "source": [
    "#Problem 6: Shape Calculation Create a class representing a shape with attributes like length, width, and height. Implement methods to calculate the area and perimeter of the shape.\n",
    "import math\n",
    "\n",
    "class ShapeCalculation:\n",
    "    def __init__(self, length, width, height):\n",
    "        self.length = length\n",
    "        self.width = width\n",
    "        self.height = height\n",
    "\n",
    "    def calculate(self, shape_type):\n",
    "        if shape_type == \"Rectangle\":\n",
    "            area = self.length * self.width\n",
    "            perimeter = 2 * (self.length + self.width)\n",
    "            print(f\"The area and perimeter of {shape_type} are\", area, perimeter)\n",
    "        elif shape_type == \"Square\":\n",
    "            area = self.length ** 2\n",
    "            perimeter = 4 * self.length\n",
    "            print(f\"The area and perimeter of {shape_type} are\", area, perimeter)\n",
    "        elif shape_type == \"Right-Angled Triangle\":\n",
    "            hypotenuse = math.sqrt(self.width ** 2 + self.height ** 2)\n",
    "            area = 0.5 * self.width * self.height\n",
    "            perimeter = self.width + self.height + hypotenuse\n",
    "            print(f\"The area and perimeter of {shape_type} are\", area, perimeter)\n",
    "        else:\n",
    "            print(\"Wrong shape type\")\n",
    "\n",
    "# Create an instance and calculate for a rectangle\n",
    "obj = ShapeCalculation(10, 5, 0)\n",
    "obj.calculate(\"Rectangle\")\n",
    "\n",
    "# Calculate for a square\n",
    "obj = ShapeCalculation(5, 0, 0)\n",
    "obj.calculate(\"Square\")\n",
    "\n",
    "# Calculate for a right-angled triangle\n",
    "obj = ShapeCalculation(0, 12, 5)\n",
    "obj.calculate(\"Right-Angled Triangle\")\n"
   ]
  },
  {
   "cell_type": "code",
   "execution_count": 47,
   "id": "7b498250",
   "metadata": {},
   "outputs": [
    {
     "name": "stdout",
     "output_type": "stream",
     "text": [
      "id= S100 Name= Rohan Average grade= 83.75\n",
      "id= S102 Name= Rohit Average grade= 77.0\n"
     ]
    }
   ],
   "source": [
    "#Problem 7: Student Management Create a class representing a student with attributes like student ID, name, and grades. Implement methods to calculate the average grade and display student details.\n",
    "class Student_Management:\n",
    "    def __init__(self,student_id,studet_name,student_grade):\n",
    "        self.student_id=student_id\n",
    "        self.studet_name=studet_name\n",
    "        self.student_grade=student_grade\n",
    "        self.avg_grade=0.0\n",
    "    def average_grade(self):\n",
    "        sum=0\n",
    "        for i in self.student_grade:\n",
    "            sum=sum+i\n",
    "        self.avg_grade=sum/len(self.student_grade)\n",
    "    def display(self):\n",
    "        print(\"id=\",self.student_id,\"Name=\",self.studet_name,\"Average grade=\",self.avg_grade)\n",
    "\n",
    "obj1=Student_Management(\"S100\",\"Rohan\",[80,75,89,91])\n",
    "obj1.average_grade()\n",
    "obj1.display()\n",
    "obj2=Student_Management(\"S102\",\"Rohit\",[85,70,82,71])\n",
    "obj2.average_grade()\n",
    "obj2.display()\n",
    "\n"
   ]
  },
  {
   "cell_type": "code",
   "execution_count": 50,
   "id": "3a0db4e7",
   "metadata": {},
   "outputs": [
    {
     "name": "stdout",
     "output_type": "stream",
     "text": [
      "sender= abc@gmail.com recipient= xyz@gmail.com subject= join pw skills ASAP\n"
     ]
    }
   ],
   "source": [
    "#Problem 8: Email Management Create a class representing an email with attributes like sender, recipient, and subject. Implement methods to send an email and display email details.\n",
    "class Email_Management:\n",
    "    def __init__(self,sender,recipient,subject):\n",
    "        self.sender=sender\n",
    "        self.recipient=recipient\n",
    "        self.subject=subject\n",
    "    def send_mail(self):\n",
    "        pass\n",
    "    def display(self):\n",
    "        print(\"sender=\",self.sender,\"recipient=\",self.recipient,\"subject=\",self.subject)\n",
    "obj1=Email_Management(\"abc@gmail.com\",\"xyz@gmail.com\",\"join pw skills ASAP\")\n",
    "obj1.send_mail()\n",
    "obj1.display()"
   ]
  },
  {
   "cell_type": "code",
   "execution_count": 67,
   "id": "42601118",
   "metadata": {},
   "outputs": [
    {
     "name": "stdout",
     "output_type": "stream",
     "text": [
      "Ratul87 : ['I Have published a journal.', 'The journal is sci index', 'It is a spinger publication sci index journal']\n",
      "Keyword found in the post: The journal is sci index\n",
      "Keyword found in the post: It is a spinger publication sci index journal\n"
     ]
    }
   ],
   "source": [
    "#Problem 9: Social Media Profile Create a class representing a social media profile with attributes like username and posts. Implement methods to add posts, display posts, and search for posts by keyword.\n",
    "class social_media_profile:\n",
    "    def __init__(self,username,posts):\n",
    "        self.username=username\n",
    "        self.posts=posts\n",
    "    def add_post(self,new_post):\n",
    "        self.new_post=new_post\n",
    "        self.posts.append(self.new_post)\n",
    "    def display_post(self):\n",
    "        print(self.username,\":\",self.posts)\n",
    "    def search_post(self,keyword):\n",
    "        flag=False\n",
    "        self.keyword=keyword\n",
    "        for post in self.posts:\n",
    "            if self.keyword.lower() in post.lower() :\n",
    "                    print(\"Keyword found in the post:\",post)\n",
    "                    flag=True\n",
    "        if flag==False:\n",
    "            print(\"Keyword not found\")\n",
    "            \n",
    "obj1=social_media_profile(\"Ratul87\",[\"I Have published a journal.\"])\n",
    "#obj1.display_post()\n",
    "obj1.add_post(\"The journal is sci index\")\n",
    "#obj1.display_post()\n",
    "#obj1.search_post(\"sci\")\n",
    "obj1.add_post(\"It is a spinger publication sci index journal\")   \n",
    "obj1.display_post()\n",
    "obj1.search_post(\"sci\")\n",
    "    "
   ]
  },
  {
   "cell_type": "code",
   "execution_count": 95,
   "id": "4bb74896",
   "metadata": {},
   "outputs": [
    {
     "name": "stdout",
     "output_type": "stream",
     "text": [
      "Remaining Task...........\n",
      "Task: Practice opps\n",
      "Task Status: Not_done\n",
      "Task due date: 2023-10-14\n",
      "Task: Practice Ml\n",
      "Task Status: Not_done\n",
      "Task due date: 2023-10-15\n",
      "Completed one task on date\n",
      "Remaining Task...........\n",
      "Task: Practice opps\n",
      "Task Status: Not_done\n",
      "Task due date: 2023-10-14\n"
     ]
    }
   ],
   "source": [
    "#Problem 10: ToDo List Create a class representing a ToDo list with attributes like tasks and due dates. Implement methods to add tasks, mark tasks as completed, and display pending tasks.\n",
    "import datetime\n",
    "class Todo_list:\n",
    "    tasks=[]\n",
    "    def __init__(self,task_name,task_status,due_date):\n",
    "        self.task_name=task_name\n",
    "        self.task_status=task_status\n",
    "        self.due_date=due_date\n",
    "        self.tasks.append([self.task_name,self.task_status,self.due_date])\n",
    "    def add_task(self,new_task):\n",
    "        self.new_task=new_task\n",
    "        self.tasks.append(new_task)\n",
    "    def perform_task(self,type):\n",
    "        self.type=type\n",
    "        self.present_date=str(datetime.date.today())\n",
    "        for i in range(len(self.tasks)):\n",
    "            if self.tasks[i][0]==self.type and self.present_date<=self.tasks[i][2]:\n",
    "                self.tasks[i][1]=\"Completed\"\n",
    "        print(\"Completed one task on date\")\n",
    "            \n",
    "    def display(self):\n",
    "        print(\"Remaining Task...........\")\n",
    "        for task in self.tasks:\n",
    "            if task[1]!=\"Completed\":\n",
    "                print(\"Task:\",task[0])\n",
    "                print(\"Task Status:\",task[1])\n",
    "                print(\"Task due date:\",task[2])\n",
    "obj=Todo_list(\"Practice opps\",\"Not_done\",\"2023-10-14\")   \n",
    "#obj.display()\n",
    "obj.add_task([\"Practice Ml\",\"Not_done\",\"2023-10-15\"])\n",
    "obj.display()\n",
    "obj.perform_task(\"Practice Ml\")\n",
    "obj.display()"
   ]
  },
  {
   "cell_type": "code",
   "execution_count": null,
   "id": "842ed45e",
   "metadata": {},
   "outputs": [],
   "source": []
  },
  {
   "cell_type": "code",
   "execution_count": null,
   "id": "5db0687f",
   "metadata": {},
   "outputs": [],
   "source": []
  }
 ],
 "metadata": {
  "kernelspec": {
   "display_name": "Python 3 (ipykernel)",
   "language": "python",
   "name": "python3"
  },
  "language_info": {
   "codemirror_mode": {
    "name": "ipython",
    "version": 3
   },
   "file_extension": ".py",
   "mimetype": "text/x-python",
   "name": "python",
   "nbconvert_exporter": "python",
   "pygments_lexer": "ipython3",
   "version": "3.11.3"
  }
 },
 "nbformat": 4,
 "nbformat_minor": 5
}
