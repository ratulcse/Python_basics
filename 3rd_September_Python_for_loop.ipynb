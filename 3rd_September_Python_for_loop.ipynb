{
 "cells": [
  {
   "cell_type": "code",
   "execution_count": 3,
   "id": "0f65b58b",
   "metadata": {},
   "outputs": [
    {
     "name": "stdout",
     "output_type": "stream",
     "text": [
      "1\n",
      "2\n",
      "3\n",
      "4\n",
      "5\n",
      "6\n",
      "7\n",
      "8\n",
      "9\n",
      "10\n"
     ]
    }
   ],
   "source": [
    "#1. Write a Python program to print the numbers from 1 to 10 using a `for` loop\n",
    "for i in range(1,11):\n",
    "    print(i)\n"
   ]
  },
  {
   "cell_type": "code",
   "execution_count": 5,
   "id": "c163a633",
   "metadata": {},
   "outputs": [
    {
     "name": "stdout",
     "output_type": "stream",
     "text": [
      "28\n"
     ]
    }
   ],
   "source": [
    "#2. Create a program that calculates the sum of all numbers in a list using a `for` loop.\n",
    "list=[1,2,3,4,5,6,7]\n",
    "sum=0\n",
    "for i in list:\n",
    "    sum+=i\n",
    "print(sum)"
   ]
  },
  {
   "cell_type": "code",
   "execution_count": 4,
   "id": "47cf0402",
   "metadata": {},
   "outputs": [
    {
     "name": "stdout",
     "output_type": "stream",
     "text": [
      "s\n",
      "l\n",
      "l\n",
      "i\n",
      "k\n",
      "s\n",
      " \n",
      "w\n",
      "p\n"
     ]
    }
   ],
   "source": [
    "#3. Write a program to print the characters of a string in reverse order using a `for` loop.\n",
    "str=\"pw skills\"\n",
    "l=len(str)\n",
    "for i in range(l-1,-1,-1):\n",
    "    print(str[i])\n",
    "    "
   ]
  },
  {
   "cell_type": "code",
   "execution_count": 13,
   "id": "92a25f90",
   "metadata": {},
   "outputs": [
    {
     "name": "stdout",
     "output_type": "stream",
     "text": [
      "Enter the number:5\n",
      "120\n"
     ]
    }
   ],
   "source": [
    "#4. Develop a program that finds the factorial of a given number using a `for` loop.\n",
    "n=int(input(\"Enter the number:\"))\n",
    "f=1\n",
    "for i in range(n,1,-1):\n",
    "    f=f*i\n",
    "print(f)"
   ]
  },
  {
   "cell_type": "code",
   "execution_count": 18,
   "id": "c1a3be97",
   "metadata": {},
   "outputs": [
    {
     "name": "stdout",
     "output_type": "stream",
     "text": [
      "Enter the number:6\n",
      "6*1= 6\n",
      "6*2= 12\n",
      "6*3= 18\n",
      "6*4= 24\n",
      "6*5= 30\n",
      "6*6= 36\n",
      "6*7= 42\n",
      "6*8= 48\n",
      "6*9= 54\n",
      "6*10= 60\n"
     ]
    }
   ],
   "source": [
    "#5. Create a program to print the multiplication table of a given number using a `for` loop.\n",
    "n=int(input(\"Enter the number:\"))\n",
    "for i in range(1,11):\n",
    "    print(f\"{n}*{i}=\",n*i)"
   ]
  },
  {
   "cell_type": "code",
   "execution_count": 5,
   "id": "5cbf76b9",
   "metadata": {},
   "outputs": [
    {
     "name": "stdout",
     "output_type": "stream",
     "text": [
      "No of even and odd elements are 4 5\n"
     ]
    }
   ],
   "source": [
    "#6. Write a program that counts the number of even and odd numbers in a list using a `for` loop.\n",
    "list=[1,2,3,4,5,6,7,8,9]\n",
    "even=0\n",
    "odd=0\n",
    "for i in list:\n",
    "    if(i%2==0):\n",
    "        even+=1\n",
    "    else:\n",
    "        odd+=1\n",
    "print(\"No of even and odd elements are\",even,odd)    \n",
    "    \n",
    "    "
   ]
  },
  {
   "cell_type": "code",
   "execution_count": 20,
   "id": "79254288",
   "metadata": {},
   "outputs": [
    {
     "name": "stdout",
     "output_type": "stream",
     "text": [
      "1\n",
      "4\n",
      "9\n",
      "16\n",
      "25\n"
     ]
    }
   ],
   "source": [
    "#7. Develop a program that prints the squares of numbers from 1 to 5 using a `for` loop.\n",
    "for i in range(1,6):\n",
    "    print(i**2)"
   ]
  },
  {
   "cell_type": "code",
   "execution_count": 1,
   "id": "9857a995",
   "metadata": {},
   "outputs": [
    {
     "name": "stdout",
     "output_type": "stream",
     "text": [
      "9\n"
     ]
    }
   ],
   "source": [
    "#8. Create a program to find the length of a string without using the `len()` function.\n",
    "str=\"Pw skills\"\n",
    "count=0\n",
    "for i in str:\n",
    "    count+=1\n",
    "print(count)    "
   ]
  },
  {
   "cell_type": "code",
   "execution_count": 3,
   "id": "7a6b7213",
   "metadata": {},
   "outputs": [
    {
     "name": "stdout",
     "output_type": "stream",
     "text": [
      "The average is 3.5\n"
     ]
    }
   ],
   "source": [
    "#9. Write a program that calculates the average of a list of numbers using a `for` loop.\n",
    "list=[1,2,3,4,5,6]\n",
    "n=len(list)\n",
    "sum=0\n",
    "for i in list:\n",
    "    sum=sum+i\n",
    "print(\"The average is\",sum/n)    \n",
    "    "
   ]
  },
  {
   "cell_type": "code",
   "execution_count": 7,
   "id": "d8a0e1b5",
   "metadata": {},
   "outputs": [
    {
     "name": "stdout",
     "output_type": "stream",
     "text": [
      "Entere the range:7\n",
      "0\n",
      "1\n",
      "1\n",
      "2\n",
      "3\n",
      "5\n",
      "8\n"
     ]
    }
   ],
   "source": [
    "#10. Develop a program that prints the first `n` Fibonacci numbers using a `for` loop.\n",
    "n=int(input(\"Entere the range:\"))\n",
    "a=0\n",
    "b=1\n",
    "print(a)\n",
    "print(b)\n",
    "for i in range(n-2):\n",
    "    c=a+b\n",
    "    print(c)\n",
    "    a=b\n",
    "    b=c"
   ]
  },
  {
   "cell_type": "code",
   "execution_count": 6,
   "id": "db3a0201",
   "metadata": {},
   "outputs": [
    {
     "name": "stdout",
     "output_type": "stream",
     "text": [
      "The list doesn't contains duplicate element\n"
     ]
    }
   ],
   "source": [
    "#11. Write a program to check if a given list contains any duplicates using a `for` loop.\n",
    "list=[1,2,3,4,5,6]\n",
    "l=len(list)\n",
    "flag=0\n",
    "for i in range(l):\n",
    "    count=0\n",
    "    for j in range(i+1,l):\n",
    "        if(list[i]==list[j]):\n",
    "            flag=1\n",
    "            break\n",
    "           \n",
    "if(flag==1):\n",
    "           print(\"The list contains duplicate element\")\n",
    "else:\n",
    "           print(\"The list doesn't contains duplicate element\")\n",
    "           \n",
    "            "
   ]
  },
  {
   "cell_type": "code",
   "execution_count": 4,
   "id": "368bd739",
   "metadata": {},
   "outputs": [
    {
     "name": "stdout",
     "output_type": "stream",
     "text": [
      "Enter the starting range: 10\n",
      "Enter the ending range: 20\n",
      "11 is prime\n",
      "13 is prime\n",
      "17 is prime\n",
      "19 is prime\n"
     ]
    }
   ],
   "source": [
    "#12. Create a program that prints the prime numbers in a given range using a `for` loop.\n",
    "import math\n",
    "\n",
    "a = int(input(\"Enter the starting range: \"))\n",
    "b = int(input(\"Enter the ending range: \"))\n",
    "\n",
    "for i in range(a, b + 1):\n",
    "    if i < 2:\n",
    "        continue\n",
    "    f = 0\n",
    "    for j in range(2, int(math.sqrt(i)) + 1):\n",
    "        if i % j == 0:\n",
    "            f = 1\n",
    "            break\n",
    "    if f == 0:\n",
    "        print(f\"{i} is prime\")\n",
    "        \n",
    "                \n",
    "    \n"
   ]
  },
  {
   "cell_type": "code",
   "execution_count": 4,
   "id": "b74ab280",
   "metadata": {},
   "outputs": [
    {
     "name": "stdout",
     "output_type": "stream",
     "text": [
      "Enter the sentence:My name is Ratul\n",
      "The number of vowels in the sentence are 5\n"
     ]
    }
   ],
   "source": [
    "# 13. Develop a program that counts the number of vowels in a string using a `for` loop.\n",
    "str1=input(\"Enter the sentence:\")\n",
    "count=0\n",
    "for i in range(len(str1)):\n",
    "        if(str1[i].isalpha() and str1[i]=='a' or str1[i]=='e' or str1[i]=='i' or str1[i]=='o' or str1[i]=='u' or str1[i]=='A' or str1[i]=='E' or str1[i]=='I' or str1[i]=='O' or str1[i]=='U'):\n",
    "             count=count+1\n",
    "        i=i+1\n",
    "print(\"The number of vowels in the sentence are\",count)   "
   ]
  },
  {
   "cell_type": "code",
   "execution_count": 7,
   "id": "2bff0617",
   "metadata": {},
   "outputs": [
    {
     "name": "stdout",
     "output_type": "stream",
     "text": [
      "Enter the list:[[10,20,30],[1,67,4],[100,67,43]]\n",
      "The largest element is 100\n"
     ]
    }
   ],
   "source": [
    "#14. Write a program to find the maximum element in a 2D list using a nested `for` loop.\n",
    "list=eval(input(\"Enter the list:\"))\n",
    "max=0\n",
    "for i in range(len(list)):\n",
    "    for j in range(len(list)):\n",
    "        if list[i][j]>=max:\n",
    "            max=list[i][j]\n",
    "print(\"The largest element is\",max)            \n",
    "        "
   ]
  },
  {
   "cell_type": "code",
   "execution_count": 9,
   "id": "bf75ac5b",
   "metadata": {},
   "outputs": [
    {
     "name": "stdout",
     "output_type": "stream",
     "text": [
      "Enter the list:[10,20,30,10]\n",
      "Enter the element:10\n",
      "[20, 30]\n"
     ]
    }
   ],
   "source": [
    "#15. Create a program that removes all occurrences of a specific element from a list using a `for` loop.\n",
    "list=eval(input(\"Enter the list:\"))\n",
    "item=int(input(\"Enter the element:\"))\n",
    "for i in range(len(list)-1):\n",
    "    if(list[i]==item):\n",
    "        list.remove(item)\n",
    "print(list)        \n"
   ]
  },
  {
   "cell_type": "code",
   "execution_count": 10,
   "id": "636b37fc",
   "metadata": {},
   "outputs": [
    {
     "name": "stdout",
     "output_type": "stream",
     "text": [
      "1*1= 1\n",
      "1*2= 2\n",
      "1*3= 3\n",
      "1*4= 4\n",
      "1*5= 5\n",
      "1*6= 6\n",
      "1*7= 7\n",
      "1*8= 8\n",
      "1*9= 9\n",
      "1*10= 10\n",
      "2*1= 2\n",
      "2*2= 4\n",
      "2*3= 6\n",
      "2*4= 8\n",
      "2*5= 10\n",
      "2*6= 12\n",
      "2*7= 14\n",
      "2*8= 16\n",
      "2*9= 18\n",
      "2*10= 20\n",
      "3*1= 3\n",
      "3*2= 6\n",
      "3*3= 9\n",
      "3*4= 12\n",
      "3*5= 15\n",
      "3*6= 18\n",
      "3*7= 21\n",
      "3*8= 24\n",
      "3*9= 27\n",
      "3*10= 30\n",
      "4*1= 4\n",
      "4*2= 8\n",
      "4*3= 12\n",
      "4*4= 16\n",
      "4*5= 20\n",
      "4*6= 24\n",
      "4*7= 28\n",
      "4*8= 32\n",
      "4*9= 36\n",
      "4*10= 40\n",
      "5*1= 5\n",
      "5*2= 10\n",
      "5*3= 15\n",
      "5*4= 20\n",
      "5*5= 25\n",
      "5*6= 30\n",
      "5*7= 35\n",
      "5*8= 40\n",
      "5*9= 45\n",
      "5*10= 50\n"
     ]
    }
   ],
   "source": [
    "#16. Develop a program that generates a multiplication table for numbers from 1 to 5 using a nested `for` loop.\n",
    "for i in range(1,6):\n",
    "    for j in range(1,11):\n",
    "        print(f\"{i}*{j}=\",i*j)\n",
    "    \n"
   ]
  },
  {
   "cell_type": "code",
   "execution_count": 11,
   "id": "8336d00d",
   "metadata": {},
   "outputs": [
    {
     "name": "stdout",
     "output_type": "stream",
     "text": [
      "Enter the Fahrenheit temparatures:[0,1,2,3,4,5]\n",
      "[-17.77777777777778, -17.22222222222222, -16.666666666666668, -16.11111111111111, -15.555555555555555, -15.0]\n"
     ]
    }
   ],
   "source": [
    "#17. Write a program that converts a list of Fahrenheit temperatures to Celsius using a `for` loop.\n",
    "fah=eval(input(\"Enter the Fahrenheit temparatures:\"))\n",
    "l1=[]\n",
    "for i in fah:\n",
    "    c=5*((i-32)/9)\n",
    "    l1.append(c)\n",
    "print(l1)    \n",
    "    \n"
   ]
  },
  {
   "cell_type": "code",
   "execution_count": 1,
   "id": "ce427ef6",
   "metadata": {},
   "outputs": [
    {
     "name": "stdout",
     "output_type": "stream",
     "text": [
      "40\n",
      "50\n"
     ]
    }
   ],
   "source": [
    "#18. Create a program to print the common elements from two lists using a `for` loop.\n",
    "list1=[10,20,30,40,50]\n",
    "list2=[40,50,60,70,80]\n",
    "for i in list1:\n",
    "    for j in list2:\n",
    "        if(i==j):\n",
    "            print(i)\n",
    "        "
   ]
  },
  {
   "cell_type": "code",
   "execution_count": 2,
   "id": "320bcfb3",
   "metadata": {},
   "outputs": [
    {
     "name": "stdout",
     "output_type": "stream",
     "text": [
      "Enter the line:5\n",
      "* \n",
      "* * \n",
      "* * * \n",
      "* * * * \n",
      "* * * * * \n"
     ]
    }
   ],
   "source": [
    "#19. Develop a program that prints the pattern of right-angled triangles using a `for` loop. Use ‘*’ to draw the pattern\n",
    "n=int(input(\"Enter the line:\"))\n",
    "for i in range(n):\n",
    "    for j in range(i+1):\n",
    "        print(\"* \",end=\"\")\n",
    "    print()  "
   ]
  },
  {
   "cell_type": "code",
   "execution_count": 1,
   "id": "b50c8fb2",
   "metadata": {},
   "outputs": [
    {
     "name": "stdout",
     "output_type": "stream",
     "text": [
      "Enter the first number: 52\n",
      "Enter the second number: 20\n",
      "The GCD of 52 and 20 is: 4\n"
     ]
    }
   ],
   "source": [
    "#20. Write a program to find the greatest common divisor (GCD) of two numbers using a `for` loop.\n",
    "def calculate_gcd(a, b):\n",
    "    if a < b:\n",
    "        a, b = b, a\n",
    "    \n",
    "    gcd = 1 \n",
    "    for i in range(1, b + 1):\n",
    "        if a % i == 0 and b % i == 0:\n",
    "            gcd = i  # Update gcd when a common divisor is found\n",
    "    \n",
    "    return gcd\n",
    "num1 = int(input(\"Enter the first number: \"))\n",
    "num2 = int(input(\"Enter the second number: \"))\n",
    "gcd_result = calculate_gcd(num1, num2)\n",
    "print(\"The GCD of\", num1, \"and\", num2, \"is:\", gcd_result)\n"
   ]
  },
  {
   "cell_type": "code",
   "execution_count": 2,
   "id": "c7a453ca",
   "metadata": {},
   "outputs": [
    {
     "name": "stdout",
     "output_type": "stream",
     "text": [
      "[2, 5, 8, 4, 5]\n"
     ]
    }
   ],
   "source": [
    "#21. Create a program that calculates the sum of the digits of numbers in a list using a list comprehension\n",
    "list1=[11,23,35,40,50]\n",
    "res = list(map(lambda ele: sum(int(sub) for sub in str(ele)), list1))\n",
    "print(res)"
   ]
  },
  {
   "cell_type": "code",
   "execution_count": 6,
   "id": "adc7aa07",
   "metadata": {},
   "outputs": [
    {
     "name": "stdout",
     "output_type": "stream",
     "text": [
      "Enter the number: 10\n",
      "Prime factors of 10: [2, 5]\n"
     ]
    }
   ],
   "source": [
    "#22. Write a program to find the prime factors of a given number using a `for` loop and list comprehension.\n",
    "import math\n",
    "def is_prime(n):\n",
    "    for i in range(2, int(math.sqrt(n)) + 1):\n",
    "        if n % i == 0:\n",
    "            return False\n",
    "    return True\n",
    "\n",
    "n = int(input(\"Enter the number: \"))\n",
    "factors = [i for i in range(2, n + 1) if n % i == 0 and is_prime(i)]\n",
    "print(f\"Prime factors of {n}: {factors}\")"
   ]
  },
  {
   "cell_type": "code",
   "execution_count": 5,
   "id": "2c1ea8c6",
   "metadata": {},
   "outputs": [
    {
     "name": "stdout",
     "output_type": "stream",
     "text": [
      "[40, 10, 50, 20, 30]\n"
     ]
    }
   ],
   "source": [
    "#23. Develop a program that extracts unique elements from a list and stores them in a new list using a list comprehension.\n",
    "list1=[10,20,30,40,50,10,20]\n",
    "list3=[i for i in set(list1)]\n",
    "print(list3)"
   ]
  },
  {
   "cell_type": "code",
   "execution_count": 1,
   "id": "87501bf9",
   "metadata": {},
   "outputs": [
    {
     "name": "stdout",
     "output_type": "stream",
     "text": [
      "Enter the starting range:1000\n",
      "Enter the starting range:2000\n",
      "[1001, 1111, 1221, 1331, 1441, 1551, 1661, 1771, 1881, 1991]\n"
     ]
    }
   ],
   "source": [
    "#24. Create a program that generates a list of all palindromic numbers up to a specified limit using a list comprehension.\n",
    "def is_palin(n):\n",
    "    s=0\n",
    "    k=n\n",
    "    while(n>0):\n",
    "        r=n%10\n",
    "        s=r+s*10\n",
    "        n=n//10\n",
    "    if(s==k):\n",
    "        return True\n",
    "    else:\n",
    "        return False\n",
    "a=int(input(\"Enter the starting range:\"))\n",
    "b=int(input(\"Enter the starting range:\"))\n",
    "l=[i for i in range(a,b+1) if is_palin(i)]\n",
    "print(l)\n",
    "\n",
    "        "
   ]
  },
  {
   "cell_type": "code",
   "execution_count": 12,
   "id": "e2f529f2",
   "metadata": {},
   "outputs": [
    {
     "name": "stdout",
     "output_type": "stream",
     "text": [
      "Original Nested List: [[1, 2, [3, 4]], [5, 6], [7, [8, 9, 10]]]\n",
      "Flattened List: [1, 2, 3, 4, 5, 6, 7, 8, 9, 10]\n"
     ]
    }
   ],
   "source": [
    "#25.Write a program to flatten a nested list using list comprehension.\n",
    "\n",
    "def flatten_list(nested_list):\n",
    "    flattened_list = []\n",
    "    for element in nested_list:\n",
    "        if isinstance(element, list):  \n",
    "            flattened_list.extend(flatten_list(element)) \n",
    "        else:\n",
    "            flattened_list.append(element)  \n",
    "    return flattened_list\n",
    "\n",
    "# Example usage\n",
    "nested_list = [[1, 2, [3, 4]], [5, 6], [7, [8, 9, 10]]]\n",
    "flattened_list = flatten_list(nested_list)\n",
    "print(\"Original Nested List:\", nested_list)\n",
    "print(\"Flattened List:\", flattened_list)\n"
   ]
  },
  {
   "cell_type": "code",
   "execution_count": 2,
   "id": "69dbde4b",
   "metadata": {},
   "outputs": [
    {
     "name": "stdout",
     "output_type": "stream",
     "text": [
      "Odd 65\n",
      "Even 134\n"
     ]
    }
   ],
   "source": [
    "#26. Develop a program that computes the sum of even and odd numbers in a list separately using list comprehension\n",
    "l=[10,21,34,33,90,11]\n",
    "print(\"Odd\",sum([i for i in l if i%2!=0]))\n",
    "print(\"Even\",sum([i for i in l if i%2==0]))"
   ]
  },
  {
   "cell_type": "code",
   "execution_count": 1,
   "id": "8a5e8311",
   "metadata": {},
   "outputs": [
    {
     "name": "stdout",
     "output_type": "stream",
     "text": [
      "[1, 9, 25, 49, 81]\n"
     ]
    }
   ],
   "source": [
    "#27.Create a program that generates a list of squares of odd numbers between 1 and 10 using list comprehension.\n",
    "l=[i**2 for i in range(1,11) if i%2!=0]\n",
    "print(l)"
   ]
  },
  {
   "cell_type": "code",
   "execution_count": 5,
   "id": "85ebe73e",
   "metadata": {},
   "outputs": [
    {
     "name": "stdout",
     "output_type": "stream",
     "text": [
      "Resultant dictionary is : {'Ram': 1, 'Sam': 4, 'jadu': 5}\n"
     ]
    }
   ],
   "source": [
    "#28. Write a program that combines two lists into a dictionary using list comprehension.\n",
    "keys = [\"Ram\", \"Sam\", \"jadu\"]\n",
    "values = [1, 4, 5]\n",
    "res = {keys[i]:values[i] for i in range(len(keys))}\n",
    "print(\"Resultant dictionary is : \" + str(res))"
   ]
  },
  {
   "cell_type": "code",
   "execution_count": 3,
   "id": "2c7f1e90",
   "metadata": {},
   "outputs": [
    {
     "name": "stdout",
     "output_type": "stream",
     "text": [
      "Enter the string:Ratul\n",
      "['a', 'u']\n"
     ]
    }
   ],
   "source": [
    "#29 Develop a program that extracts the vowels from a string and stores them in a list using list comprehension.\n",
    "def vowel_check(n):\n",
    "    if(n.isalpha() and n=='a' or n=='e' or n=='i' or n=='o' or n=='u' or n=='A' or n=='E' or n=='I' or n=='O' or n=='U'):\n",
    "        return True\n",
    "    else:\n",
    "        return False\n",
    "str=input(\"Enter the string:\")\n",
    "l=[ch for ch in str if(vowel_check(ch))]\n",
    "print(l)"
   ]
  },
  {
   "cell_type": "code",
   "execution_count": 4,
   "id": "395ae8db",
   "metadata": {},
   "outputs": [
    {
     "name": "stdout",
     "output_type": "stream",
     "text": [
      "Enter the string:Ra&880432!Tu,L\n",
      "['R', 'a', 'T', 'u', 'L']\n"
     ]
    }
   ],
   "source": [
    "#30 Create a program that removes all non-numeric characters from a list of strings using list comprehension.\n",
    "def numeric_check(n):\n",
    "    if(n.isalpha()):\n",
    "        return True\n",
    "    else:\n",
    "        return False\n",
    "str=input(\"Enter the string:\")\n",
    "l=[ch for ch in str if(numeric_check(ch))]\n",
    "print(l)"
   ]
  },
  {
   "cell_type": "code",
   "execution_count": 5,
   "id": "43612e94",
   "metadata": {},
   "outputs": [
    {
     "name": "stdout",
     "output_type": "stream",
     "text": [
      "Prime numbers up to 30 are: [2, 3, 5, 7, 11, 13, 17, 19, 23, 29]\n"
     ]
    }
   ],
   "source": [
    "#31. Write a program to generate a list of prime numbers using the Sieve of Eratosthenes algorithm and list comprehension.\n",
    "def sieve_of_eratosthenes(n):\n",
    "    # Create a boolean array \"prime[0..n]\" and initialize all entries it as true.\n",
    "    # A value in prime[i] will finally be false if i is Not a prime, else true.\n",
    "    primes = [True] * (n + 1)\n",
    "    primes[0] = primes[1] = False  # 0 and 1 are not prime numbers\n",
    "\n",
    "    p = 2\n",
    "    while p * p <= n:\n",
    "        # If prime[p] is not changed, then it is a prime\n",
    "        if primes[p]:\n",
    "            # Update all multiples of p\n",
    "            for i in range(p * p, n + 1, p):\n",
    "                primes[i] = False\n",
    "        p += 1\n",
    "\n",
    "    # Collect all prime numbers into a list\n",
    "    prime_numbers = [i for i in range(2, n + 1) if primes[i]]\n",
    "    return prime_numbers\n",
    "\n",
    "# Example usage\n",
    "n = 30  # Find primes up to n\n",
    "prime_numbers = sieve_of_eratosthenes(n)\n",
    "print(\"Prime numbers up to\", n, \"are:\", prime_numbers)\n"
   ]
  },
  {
   "cell_type": "code",
   "execution_count": 6,
   "id": "ea697282",
   "metadata": {},
   "outputs": [
    {
     "name": "stdout",
     "output_type": "stream",
     "text": [
      "Enter the limit to generate Pythagorean triplets: 50\n",
      "[(3, 4, 5), (5, 12, 13), (6, 8, 10), (7, 24, 25), (8, 15, 17), (9, 12, 15), (9, 40, 41), (10, 24, 26), (12, 16, 20), (12, 35, 37), (14, 48, 50), (15, 20, 25), (15, 36, 39), (16, 30, 34), (18, 24, 30), (20, 21, 29), (21, 28, 35), (24, 32, 40), (27, 36, 45), (30, 40, 50)]\n"
     ]
    }
   ],
   "source": [
    "#32. Create a program that generates a list of all Pythagorean triplets up to a specified limit using list comprehension\n",
    "def generate_pythagorean_triplets(limit):\n",
    "    triplets = [(a, b, c) for a in range(1, limit + 1)\n",
    "                           for b in range(a, limit + 1)\n",
    "                           for c in range(b, limit + 1)\n",
    "                           if a**2 + b**2 == c**2]\n",
    "    return triplets\n",
    "\n",
    "# Specify the limit\n",
    "limit = int(input(\"Enter the limit to generate Pythagorean triplets: \"))\n",
    "triplets = generate_pythagorean_triplets(limit)\n",
    "print(triplets)"
   ]
  },
  {
   "cell_type": "code",
   "execution_count": 19,
   "id": "4a2ad2f8",
   "metadata": {},
   "outputs": [
    {
     "name": "stdout",
     "output_type": "stream",
     "text": [
      "[(1, 'a'), (1, 'b'), (1, 'c'), (2, 'a'), (2, 'b'), (2, 'c'), (3, 'a'), (3, 'b'), (3, 'c')]\n"
     ]
    }
   ],
   "source": [
    "#33.  Develop a program that generates a list of all possible combinations of two lists using list comprehension.\n",
    "\n",
    "list1 = [1, 2, 3]\n",
    "list2 = ['a', 'b', 'c']\n",
    "\n",
    "combinations = [(x, y) for x in list1 for y in list2]\n",
    "\n",
    "print(combinations)"
   ]
  },
  {
   "cell_type": "code",
   "execution_count": 10,
   "id": "d60c9f21",
   "metadata": {},
   "outputs": [
    {
     "name": "stdout",
     "output_type": "stream",
     "text": [
      "Enter space-seperated integers: 21 44 12 24 21 454 21 44\n",
      "Mean: 80.125\n",
      "Median: 22.5\n",
      "Mode: [21]\n"
     ]
    }
   ],
   "source": [
    "#34.  Write a program that calculates the mean, median, and mode of a list of numbers using list comprehension.\n",
    "from collections import Counter\n",
    "\n",
    "def main ():\n",
    "    numbers = list(map(int, input(\"Enter space-seperated integers: \").split()))\n",
    "    \n",
    "    print(\"Mean:\", mean(numbers))\n",
    "    print(\"Median:\", median(numbers))\n",
    "    print(\"Mode:\", mode(numbers))\n",
    "    \n",
    "def mean (numbers: list[int]) -> int:\n",
    "    return sum(number for number in numbers) / len(numbers)\n",
    "def median (numbers: list[int]) -> int:\n",
    "    size = len(numbers)\n",
    "    sorted_numbers = list(sorted(numbers))\n",
    "    if size % 2 == 1:\n",
    "        return sorted_numbers[size // 2]\n",
    "    return (sorted_numbers[size // 2 - 1] + sorted_numbers[size // 2]) / 2\n",
    "def mode (numbers: list[int]) -> int:\n",
    "    count_dict = dict(Counter(numbers))\n",
    "    mode_list = [num for num, count in count_dict.items() if count == max(count_dict.values())]\n",
    "    if len(mode_list) == len(numbers):\n",
    "        return None\n",
    "    return mode_list\n",
    "\n",
    "if __name__ == \"__main__\":\n",
    "    main()\n",
    "    \n"
   ]
  },
  {
   "cell_type": "code",
   "execution_count": 11,
   "id": "b9794091",
   "metadata": {},
   "outputs": [
    {
     "name": "stdout",
     "output_type": "stream",
     "text": [
      "Enter the number of rows: 6\n",
      "        1         \n",
      "       1 1        \n",
      "      1 2 1       \n",
      "     1 3 3 1      \n",
      "    1 4 6 4 1     \n",
      "  1 5 10 10 5 1   \n"
     ]
    }
   ],
   "source": [
    "# 35. Create a program that generates Pascal's triangle up to a specified number of rows using list comprehension.\n",
    "\n",
    "from math import factorial\n",
    "\n",
    "# Function to calculate factorial\n",
    "def factorial(n):\n",
    "    if n == 0 or n == 1:\n",
    "        return 1\n",
    "    else:\n",
    "        return n * factorial(n - 1)\n",
    "\n",
    "# Function to calculate nCr\n",
    "def nCr(n, r):\n",
    "    return factorial(n) // (factorial(n - r) * factorial(r))\n",
    "\n",
    "# Function to generate Pascal's Triangle\n",
    "def generate_pascals_triangle(num_rows):\n",
    "    triangle = [[nCr(i, j) for j in range(i + 1)] for i in range(num_rows)]\n",
    "    return triangle\n",
    "\n",
    "def main():\n",
    "    try:\n",
    "        rows = int(input(\"Enter the number of rows: \"))\n",
    "        if rows < 1:\n",
    "            raise ValueError\n",
    "        triangle = generate_pascals_triangle(rows)\n",
    "        for row in triangle:\n",
    "            print(\" \".join(map(str, row)).center(rows * 3))\n",
    "    except ValueError:\n",
    "        print(\"Invalid number of rows.\")\n",
    "\n",
    "if __name__ == \"__main__\":\n",
    "    main()\n",
    "\n"
   ]
  },
  {
   "cell_type": "code",
   "execution_count": 10,
   "id": "0f98b452",
   "metadata": {
    "scrolled": true
   },
   "outputs": [
    {
     "name": "stdout",
     "output_type": "stream",
     "text": [
      "1\n",
      "2\n",
      "6\n",
      "24\n",
      "120\n",
      "[1, 1, 1, 2, 3]\n"
     ]
    }
   ],
   "source": [
    "#36.Develop a program that calculates the sum of the digits of a factorial of numbers from 1 to 5 using list comprehension\n",
    "def digit_count(n):\n",
    "    f=1\n",
    "    for i in range(1,n+1):\n",
    "        f=f*i\n",
    "    print(f)    \n",
    "    count=0\n",
    "    while(f>0):\n",
    "        count=count+1\n",
    "        f=f//10\n",
    "    return count\n",
    "l=[digit_count(i) for i in range(1,6)]\n",
    "print(l)\n"
   ]
  },
  {
   "cell_type": "code",
   "execution_count": 29,
   "id": "eef0f880",
   "metadata": {
    "scrolled": true
   },
   "outputs": [
    {
     "name": "stdout",
     "output_type": "stream",
     "text": [
      "Enter the sentence: Hello, World!h\n",
      "The longest word in the sentence is:  World!h\n"
     ]
    }
   ],
   "source": [
    "#37.Write a program that finds the longest word in a sentence using list comprehension.\n",
    "def main ():\n",
    "    sentence: str = input(\"Enter the sentence: \").strip()\n",
    "    print(\"The longest word in the sentence is: \", longest_word(sentence))\n",
    "\n",
    "def longest_word (sentence: str) -> str:\n",
    "    return max((word for word in sentence.split()), key=len)\n",
    "    \n",
    "if __name__ == \"__main__\":\n",
    "    main()"
   ]
  },
  {
   "cell_type": "code",
   "execution_count": 15,
   "id": "c48e9bcd",
   "metadata": {},
   "outputs": [
    {
     "name": "stdout",
     "output_type": "stream",
     "text": [
      "Enter strings seperated by space: Duudee this is Jupyter Lab Aweeesoome!\n",
      "['Duudee', 'this', 'is', 'Jupyter', 'Lab', 'Aweeesoome!']\n",
      "Strings with more than three vowels: ['Duudee', 'Aweeesoome!']\n"
     ]
    }
   ],
   "source": [
    "#38. Create a program that filters a list of strings to include only those with more than three vowels using list comprehension.\n",
    "\n",
    "def main ():\n",
    "    string_list: list[str] = list(input(\"Enter strings seperated by space: \").strip().split(\" \"))\n",
    "    print(string_list)\n",
    "    filtered_strings = [string for string in string_list if count_vowels(string) > 3]\n",
    "    \n",
    "    print(\"Strings with more than three vowels:\", filtered_strings)\n",
    "    \n",
    "def count_vowels (string: str) -> int:\n",
    "    vowels = [\"A\", \"E\", \"I\", \"O\", \"U\", \"a\", \"e\", \"i\", \"o\", \"u\"]\n",
    "    return sum(1 for char in string if char in vowels)\n",
    "\n",
    "if __name__ == \"__main__\":\n",
    "    main()"
   ]
  },
  {
   "cell_type": "code",
   "execution_count": 10,
   "id": "fb0364c3",
   "metadata": {
    "scrolled": true
   },
   "outputs": [
    {
     "data": {
      "text/plain": [
       "500500"
      ]
     },
     "execution_count": 10,
     "metadata": {},
     "output_type": "execute_result"
    }
   ],
   "source": [
    "# 39. Develop a program that calculates the sum of the digits of numbers from 1 to 1000 using list comprehension.\n",
    "x=sum([i for i in range(1,1001)])\n",
    "x"
   ]
  },
  {
   "cell_type": "code",
   "execution_count": 1,
   "id": "4e5792de",
   "metadata": {},
   "outputs": [
    {
     "name": "stdout",
     "output_type": "stream",
     "text": [
      "List of prime palindromic numbers: [2, 3, 5, 7, 11, 101, 131, 151, 181, 191, 313, 353, 373, 383, 727, 757, 787, 797, 919, 929]\n"
     ]
    }
   ],
   "source": [
    "# 40. Write a program that generates a list of prime palindromic numbers using list comprehension.\n",
    "def is_prime(num):\n",
    "    if num <= 1:\n",
    "        return False\n",
    "    for i in range(2, int(num**0.5) + 1):\n",
    "        if num % i == 0:\n",
    "            return False\n",
    "    return True\n",
    "\n",
    "def is_palindrome(num):\n",
    "    return str(num) == str(num)[::-1]\n",
    "\n",
    "# Generate a list of prime palindromic numbers using list comprehension\n",
    "prime_palindromes = [num for num in range(1, 1000) if is_prime(num) and is_palindrome(num)]\n",
    "\n",
    "print(\"List of prime palindromic numbers:\", prime_palindromes)\n",
    "\n"
   ]
  },
  {
   "cell_type": "code",
   "execution_count": null,
   "id": "b526b49d",
   "metadata": {},
   "outputs": [],
   "source": []
  }
 ],
 "metadata": {
  "kernelspec": {
   "display_name": "Python 3 (ipykernel)",
   "language": "python",
   "name": "python3"
  },
  "language_info": {
   "codemirror_mode": {
    "name": "ipython",
    "version": 3
   },
   "file_extension": ".py",
   "mimetype": "text/x-python",
   "name": "python",
   "nbconvert_exporter": "python",
   "pygments_lexer": "ipython3",
   "version": "3.11.3"
  }
 },
 "nbformat": 4,
 "nbformat_minor": 5
}
