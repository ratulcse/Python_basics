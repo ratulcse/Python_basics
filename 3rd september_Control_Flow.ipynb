{
 "cells": [
  {
   "cell_type": "markdown",
   "metadata": {
    "id": "JV3ASardVEgU"
   },
   "source": [
    "# Basic If-Else Statements:"
   ]
  },
  {
   "cell_type": "markdown",
   "metadata": {
    "id": "we4u6rwrVGy5"
   },
   "source": [
    "1. Write a Python program to check if a given number is positive or negative."
   ]
  },
  {
   "cell_type": "code",
   "execution_count": null,
   "metadata": {
    "colab": {
     "base_uri": "https://localhost:8080/"
    },
    "id": "fzSFhNl0UzqP",
    "outputId": "cbf2f0cc-571b-4cf2-c697-a5312f41d963"
   },
   "outputs": [
    {
     "name": "stdout",
     "output_type": "stream",
     "text": [
      "Enter the number:  -1\n",
      "It is a Negative Number.\n"
     ]
    }
   ],
   "source": [
    "n=int(input(\"Enter the number:  \"))\n",
    "if(n<0):\n",
    "  print(\"It is a Negative Number.\")\n",
    "else:\n",
    "  print(\"It is a Positive Number.\")"
   ]
  },
  {
   "cell_type": "markdown",
   "metadata": {
    "id": "5dgHIepIWxgQ"
   },
   "source": [
    "2. Create a program that determines if a person is eligible to vote based on their age"
   ]
  },
  {
   "cell_type": "code",
   "execution_count": null,
   "metadata": {
    "colab": {
     "base_uri": "https://localhost:8080/"
    },
    "id": "7urvMyuwVVnd",
    "outputId": "a3bc272e-084c-44c3-dbff-c3678cb11d06"
   },
   "outputs": [
    {
     "name": "stdout",
     "output_type": "stream",
     "text": [
      "Enter your ager:  18\n",
      "You are eligible to vote.\n"
     ]
    }
   ],
   "source": [
    "n=int(input(\"Enter your age:  \"))\n",
    "if(n<18):\n",
    "  print(\"You are not eligible to vote.\")\n",
    "else:\n",
    "  print(\"You are eligible to vote.\")"
   ]
  },
  {
   "cell_type": "markdown",
   "metadata": {
    "id": "9uDFhjlWXSk3"
   },
   "source": [
    "3. Develop a program to find the maximum of two numbers using if-else statements."
   ]
  },
  {
   "cell_type": "code",
   "execution_count": null,
   "metadata": {
    "colab": {
     "base_uri": "https://localhost:8080/"
    },
    "id": "eU-WCctgXKEo",
    "outputId": "a2436726-3ac4-4116-8397-02b67a048655"
   },
   "outputs": [
    {
     "name": "stdout",
     "output_type": "stream",
     "text": [
      "Enter the 1st Number:  5\n",
      "Enter the 2nd Number:  7\n",
      "7 is Maximum.\n"
     ]
    }
   ],
   "source": [
    "x=int(input(\"Enter the 1st Number:  \"))\n",
    "y=int(input(\"Enter the 2nd Number:  \"))\n",
    "if(x>y):\n",
    "  print(f'{x} is Maximum.')\n",
    "else:\n",
    "  print(f'{y} is Maximum.')"
   ]
  },
  {
   "cell_type": "markdown",
   "metadata": {
    "id": "e-mD0Oo2YYQM"
   },
   "source": [
    "4. Write a Python script to classify a given year as a leap year or not."
   ]
  },
  {
   "cell_type": "code",
   "execution_count": null,
   "metadata": {
    "colab": {
     "base_uri": "https://localhost:8080/"
    },
    "id": "UD_AejZUYE1T",
    "outputId": "62b2cce3-1031-43ba-fbf8-a8a5c8067741"
   },
   "outputs": [
    {
     "name": "stdout",
     "output_type": "stream",
     "text": [
      "Enter the year:  2000\n",
      "2000 is a leap year.\n"
     ]
    }
   ],
   "source": [
    "y=int(input(\"Enter the year:  \"))\n",
    "if(y%400==0) or (y%4==0 and y%100!=0):\n",
    "  print(f'{y} is a leap year.')\n",
    "else:\n",
    "  print(f'{y} is not a leap year.')"
   ]
  },
  {
   "cell_type": "markdown",
   "metadata": {
    "id": "atXkqO5BaG-1"
   },
   "source": [
    "5. Create a program that checks whether a character is a vowel or a consonant"
   ]
  },
  {
   "cell_type": "code",
   "execution_count": null,
   "metadata": {
    "colab": {
     "base_uri": "https://localhost:8080/"
    },
    "id": "3ELlD4SlZhfs",
    "outputId": "18432e42-b1ad-453d-eb07-9de0d741756d"
   },
   "outputs": [
    {
     "name": "stdout",
     "output_type": "stream",
     "text": [
      "Enter the character: A\n",
      "A is a vowel.\n"
     ]
    }
   ],
   "source": [
    "c=input('Enter the character: ')\n",
    "l=['a','e','i','o','u','A','E','I','O','U']\n",
    "if c in l:\n",
    "  print(f'{c} is a vowel.')\n",
    "else:\n",
    "  print(f'{c} is a consonant.')"
   ]
  },
  {
   "cell_type": "markdown",
   "metadata": {
    "id": "uypg5sagbgUw"
   },
   "source": [
    "6. Implement a program to determine whether a given number is even or odd."
   ]
  },
  {
   "cell_type": "code",
   "execution_count": null,
   "metadata": {
    "colab": {
     "base_uri": "https://localhost:8080/"
    },
    "id": "JnGM2Xh5bJvG",
    "outputId": "9d58b28b-df26-4e06-bb43-d47c5449f84c"
   },
   "outputs": [
    {
     "name": "stdout",
     "output_type": "stream",
     "text": [
      "Enter the number:  7\n",
      "7 is a odd number.\n"
     ]
    }
   ],
   "source": [
    "n=int(input('Enter the number:  '))\n",
    "if(n%2==0):\n",
    "  print(f'{n} is a even number.')\n",
    "else:\n",
    "  print(f'{n} is a odd number.')"
   ]
  },
  {
   "cell_type": "markdown",
   "metadata": {
    "id": "gvRvFKAPcDyj"
   },
   "source": [
    "7. Write a Python function to calculate the absolute value of a number without using the `abs()` function."
   ]
  },
  {
   "cell_type": "code",
   "execution_count": null,
   "metadata": {
    "colab": {
     "base_uri": "https://localhost:8080/"
    },
    "id": "4gVKkrl1cG2q",
    "outputId": "b7fdcbbe-39e2-44ec-895a-737b31bc9066"
   },
   "outputs": [
    {
     "name": "stdout",
     "output_type": "stream",
     "text": [
      "Enter the number:  -9\n",
      "The absolute value of -9 is:  9.\n"
     ]
    }
   ],
   "source": [
    "n=int(input('Enter the number:  '))\n",
    "if(n<0):\n",
    "  print(f'The absolute value of {n} is:  {-n}.')\n",
    "else:\n",
    "  print(f'The absolute value of {n} is:  {n}.')"
   ]
  },
  {
   "cell_type": "markdown",
   "metadata": {
    "id": "CjGx9lVzc3Wj"
   },
   "source": [
    "8. Develop a program that determines the largest of three given numbers using if-else statements."
   ]
  },
  {
   "cell_type": "code",
   "execution_count": null,
   "metadata": {
    "colab": {
     "base_uri": "https://localhost:8080/"
    },
    "id": "zI6Z07t-c3vu",
    "outputId": "112f54bb-71f9-430f-aa1b-2b0d387a30f0"
   },
   "outputs": [
    {
     "name": "stdout",
     "output_type": "stream",
     "text": [
      "Enter the three numbers: 9 7 5\n",
      "9 is largest.\n"
     ]
    }
   ],
   "source": [
    "a,b,c=map(int,input('Enter the three numbers: ').split())\n",
    "if(a>b and a>c):\n",
    "  print(f'{a} is largest.')\n",
    "if(b>a and b>c):\n",
    "  print(f'{b} is largest.')\n",
    "if(c>a and c>b):\n",
    "  print(f'{c} is largest.')"
   ]
  },
  {
   "cell_type": "markdown",
   "metadata": {
    "id": "gxMl9xzFi6sX"
   },
   "source": [
    "9. Create a program that checks if a given string is a palindrome.\n"
   ]
  },
  {
   "cell_type": "code",
   "execution_count": null,
   "metadata": {
    "colab": {
     "base_uri": "https://localhost:8080/"
    },
    "id": "pSvgpSv3i7E0",
    "outputId": "3a4f774e-f590-4f5a-a080-fe0f5ec9149b"
   },
   "outputs": [
    {
     "name": "stdout",
     "output_type": "stream",
     "text": [
      "Enter the string:  civic\n",
      "civic is a palindrome string.\n"
     ]
    }
   ],
   "source": [
    "p=input('Enter the string:  ')\n",
    "f=True\n",
    "for x in range (int(len(p)/2)):\n",
    "  if(p[x]!=p[-x-1]):\n",
    "    f=False\n",
    "    break\n",
    "if f:\n",
    "  print(f'{p} is a palindrome string.')\n",
    "else:\n",
    "  print(f'{p} is not a palindrome string.')\n"
   ]
  },
  {
   "cell_type": "markdown",
   "metadata": {
    "id": "8s-BrB62bcrT"
   },
   "source": [
    "\n",
    "10. Write a Python program to calculate the grade based on a student's score."
   ]
  },
  {
   "cell_type": "code",
   "execution_count": null,
   "metadata": {
    "colab": {
     "base_uri": "https://localhost:8080/"
    },
    "id": "N1jZzqJdl47X",
    "outputId": "3f2cb5d2-9632-4768-faa4-0d836e449ae4"
   },
   "outputs": [
    {
     "name": "stdout",
     "output_type": "stream",
     "text": [
      "Enter the score:  39\n",
      "Grade is F.\n"
     ]
    }
   ],
   "source": [
    "n=int(input('Enter the score:  '))\n",
    "if(n>=90):\n",
    "  print('Grade is A.')\n",
    "if(n>=80 and n<90):\n",
    "  print('Grade is B.')\n",
    "if(n>=70 and n<80):\n",
    "  print('Grade is C.')\n",
    "if(n>=60 and n<70):\n",
    "  print('Grade is D.')\n",
    "if(n>=40 and n<60):\n",
    "  print('Grade is E.')\n",
    "if(n>=0 and n<40):\n",
    "  print('Grade is F.')\n",
    "if n<0:\n",
    "  print('Invalid Input.')"
   ]
  },
  {
   "cell_type": "markdown",
   "metadata": {
    "id": "ZhkVjuEDpBmE"
   },
   "source": [
    "\n",
    "\n",
    "# Nested If-Else Statements:"
   ]
  },
  {
   "cell_type": "markdown",
   "metadata": {
    "id": "-GMiag4upEKa"
   },
   "source": [
    "11. Write a program to find the largest among three numbers using nested if-else statements."
   ]
  },
  {
   "cell_type": "code",
   "execution_count": null,
   "metadata": {
    "colab": {
     "base_uri": "https://localhost:8080/"
    },
    "id": "JY1p-gRwpKWI",
    "outputId": "20a0c3dd-e9ad-4f0b-83a0-89bf3651fc4a"
   },
   "outputs": [
    {
     "name": "stdout",
     "output_type": "stream",
     "text": [
      "Enter the three numbers: 5 7 9\n",
      "9 is largest.\n"
     ]
    }
   ],
   "source": [
    "a,b,c=map(int,input('Enter the three numbers: ').split())\n",
    "if a>b:\n",
    "  if a>c:\n",
    "    print(f'{a} is largest.')\n",
    "  else:\n",
    "    print(f'{c} is largest.')\n",
    "if b>a:\n",
    "  if b>c:\n",
    "    print(f'{b} is largest.')\n",
    "  else:\n",
    "    print(f'{c} is largest.')\n"
   ]
  },
  {
   "cell_type": "markdown",
   "metadata": {
    "id": "1od4_7Nkse-B"
   },
   "source": [
    "12. Implement a program to determine if a triangle is equilateral, isosceles, or scalene.\n"
   ]
  },
  {
   "cell_type": "code",
   "execution_count": null,
   "metadata": {
    "colab": {
     "base_uri": "https://localhost:8080/"
    },
    "id": "R2SdRg-psfXR",
    "outputId": "2021e36b-aa63-4260-f138-5b1d6899d093"
   },
   "outputs": [
    {
     "name": "stdout",
     "output_type": "stream",
     "text": [
      "Enter the three sides of the triangle: 5 6 7\n",
      "It is a scalene triangle.\n"
     ]
    }
   ],
   "source": [
    "a,b,c=[int(x) for x in input('Enter the three sides of the triangle: ').split()]\n",
    "if a==b and b==c:\n",
    "    print('It is a equilateral triangle.')\n",
    "else:\n",
    "    if a==b or b==c or a==c:\n",
    "        print('It is a isosceles triangle.')\n",
    "    else:\n",
    "        print('It is a scalene triangle.')"
   ]
  },
  {
   "cell_type": "markdown",
   "metadata": {
    "id": "yfHeb4G6v57l"
   },
   "source": [
    "13. Develop a program that checks if a year is a leap year and also if it is a century year.\n"
   ]
  },
  {
   "cell_type": "code",
   "execution_count": null,
   "metadata": {
    "colab": {
     "base_uri": "https://localhost:8080/"
    },
    "id": "mjIAg0Sjv5jq",
    "outputId": "b735721a-4f68-4aed-d9ba-c6c1480428dc"
   },
   "outputs": [
    {
     "name": "stdout",
     "output_type": "stream",
     "text": [
      "Enter the year:  2000\n",
      "2000 is a century leap year.\n"
     ]
    }
   ],
   "source": [
    "y=int(input(\"Enter the year:  \"))\n",
    "if(y%400==0):\n",
    "  print(f'{y} is a century leap year.')\n",
    "else:\n",
    "  if (y%4==0 and y%100!=0):\n",
    "    print(f'{y} is a leap year, but not a century year.')\n",
    "  else:\n",
    "    print(f'{y} is not a leap year, and also not a century year.')"
   ]
  },
  {
   "cell_type": "markdown",
   "metadata": {
    "id": "TPrtrJjSyISS"
   },
   "source": [
    "14. Write a Python script to determine if a number is positive, negative, or zero."
   ]
  },
  {
   "cell_type": "code",
   "execution_count": null,
   "metadata": {
    "colab": {
     "base_uri": "https://localhost:8080/"
    },
    "id": "caWMSkIIyHg4",
    "outputId": "8d520306-0017-4d44-8e5b-20e5bda37e3e"
   },
   "outputs": [
    {
     "name": "stdout",
     "output_type": "stream",
     "text": [
      "Enter the number: -97\n",
      "It is a negative number.\n"
     ]
    }
   ],
   "source": [
    "n=int(input('Enter the number: '))\n",
    "if n>0:\n",
    "  print('It is a positive number.')\n",
    "else:\n",
    "  if n<0:\n",
    "    print('It is a negative number.')\n",
    "  else:\n",
    "    print('It is zero.')"
   ]
  },
  {
   "cell_type": "markdown",
   "metadata": {
    "id": "ajGSNtPAzlc1"
   },
   "source": [
    "15. Create a program to check if a person is a teenager (between 13 and 19 years old)."
   ]
  },
  {
   "cell_type": "code",
   "execution_count": null,
   "metadata": {
    "colab": {
     "base_uri": "https://localhost:8080/"
    },
    "id": "n0VzrVvgzmBO",
    "outputId": "896828c2-771a-467e-e408-1a57291c85dc"
   },
   "outputs": [
    {
     "name": "stdout",
     "output_type": "stream",
     "text": [
      "Enter the age:   19\n",
      "The person is a teenager.\n"
     ]
    }
   ],
   "source": [
    "n=int(input('Enter the age:   '))\n",
    "if n>=13:\n",
    "  if n<=19:\n",
    "    print('The person is a teenager.')\n",
    "  else:\n",
    "    print('The person is not a teenager.')\n",
    "else:\n",
    "  if n<0:\n",
    "    print('Invalid input.')\n",
    "  else:\n",
    "    print('The person is not a teenager.')"
   ]
  },
  {
   "cell_type": "markdown",
   "metadata": {
    "id": "Asa1zrKF1Nhu"
   },
   "source": [
    "16. Develop a program that determines the type of angle based on its measure (acute, obtuse, or right)."
   ]
  },
  {
   "cell_type": "code",
   "execution_count": null,
   "metadata": {
    "colab": {
     "base_uri": "https://localhost:8080/"
    },
    "id": "uFOh1L861NIY",
    "outputId": "fac8c888-7865-4fa3-fd77-a9b73b59ce94"
   },
   "outputs": [
    {
     "name": "stdout",
     "output_type": "stream",
     "text": [
      "Enter the angle: 90\n",
      "It is a right angle.\n"
     ]
    }
   ],
   "source": [
    "n=int(input('Enter the angle: '))\n",
    "if n<90:\n",
    "  print('It is an acute angle.')\n",
    "else:\n",
    "  if n>90:\n",
    "    print('It is an obtuse angle.')\n",
    "  else:\n",
    "    print('It is a right angle.')"
   ]
  },
  {
   "cell_type": "markdown",
   "metadata": {
    "id": "AlwS-1Mh8KEI"
   },
   "source": [
    "17. Write a Python program to calculate the roots of a quadratic equation."
   ]
  },
  {
   "cell_type": "code",
   "execution_count": null,
   "metadata": {
    "colab": {
     "base_uri": "https://localhost:8080/"
    },
    "id": "fXNp2YhF8JwM",
    "outputId": "d2415ffb-de9d-457d-8f20-12fb6493cc20"
   },
   "outputs": [
    {
     "name": "stdout",
     "output_type": "stream",
     "text": [
      "Enter the value of a, b, c: 1 10 25\n",
      "Real and same roots are: -5.0\n"
     ]
    }
   ],
   "source": [
    "a,b,c=[int(x) for x in input('Enter the value of a, b, c: ').split()]\n",
    "if(a==0):\n",
    "  print('invalid input')\n",
    "else:\n",
    "  d=(b**2)-(4*a*c)\n",
    "  sqrt=(abs(d)**0.5)\n",
    "  e=-b/(2*a)\n",
    "  if d>0:\n",
    "    print(f'Real and different roots are: {(-b+sqrt)/(2*a)} and {(-b-sqrt)/(2*a)}.')\n",
    "  else:\n",
    "    if d==0:\n",
    "      print(f'Real and same roots are: {e}')\n",
    "    else:\n",
    "      print(f'Complex roots are: {e}+{sqrt/(2*a)}i and {e}-{sqrt/(2*a)}i.')\n"
   ]
  },
  {
   "cell_type": "markdown",
   "metadata": {
    "id": "i459NLMXS5af"
   },
   "source": [
    "\n",
    "18. Implement a program to determine the day of the week based on a user-provided number (1 for Monday, 2\n",
    "for Tuesday, etc.)."
   ]
  },
  {
   "cell_type": "code",
   "execution_count": null,
   "metadata": {
    "colab": {
     "base_uri": "https://localhost:8080/"
    },
    "id": "Cdgs2X-OS1KC",
    "outputId": "f78f0dbc-8efb-401f-af53-846b9eb05900"
   },
   "outputs": [
    {
     "name": "stdout",
     "output_type": "stream",
     "text": [
      "enter the number:  6\n",
      "Saturday\n"
     ]
    }
   ],
   "source": [
    "n=int(input('enter the number:  '))\n",
    "if n==1:\n",
    "  print('Monday')\n",
    "else:\n",
    "  if n==2:\n",
    "    print('Tuesday')\n",
    "  else:\n",
    "    if n==3:\n",
    "      print('Wednesday')\n",
    "    else:\n",
    "      if n==4:\n",
    "        print('Thursday')\n",
    "      else:\n",
    "        if n==5:\n",
    "          print('Friday')\n",
    "        else:\n",
    "          if n==6:\n",
    "            print('Saturday')\n",
    "          else:\n",
    "            if n==7:\n",
    "              print('Sunday')\n",
    "            else:\n",
    "              print('Invalid input.')"
   ]
  },
  {
   "cell_type": "markdown",
   "metadata": {
    "id": "ZOpf-FqoS1mG"
   },
   "source": [
    "19. Create a program that determines if a year is a leap year and also if it is evenly divisible by 400."
   ]
  },
  {
   "cell_type": "code",
   "execution_count": null,
   "metadata": {
    "colab": {
     "base_uri": "https://localhost:8080/"
    },
    "id": "5EfiP7uKVXUA",
    "outputId": "0e3719dd-98e5-4adf-828a-c866433d3318"
   },
   "outputs": [
    {
     "name": "stdout",
     "output_type": "stream",
     "text": [
      "Enter the year:  2012\n",
      "2012 is a leap year, but not evenly divisible by 400.\n"
     ]
    }
   ],
   "source": [
    "y=int(input(\"Enter the year:  \"))\n",
    "if(y%400==0):\n",
    "  print(f'{y} is a leap year and evenly divisible by 400.')\n",
    "else:\n",
    "  if (y%4==0 and y%100!=0):\n",
    "    print(f'{y} is a leap year, but not evenly divisible by 400.')\n",
    "  else:\n",
    "    print(f'{y} is not a leap year, and also not evenly divisible by 400.')"
   ]
  },
  {
   "cell_type": "markdown",
   "metadata": {
    "id": "K-OtICqJpH5O"
   },
   "source": [
    "\n",
    "\n",
    "\n",
    "\n",
    "\n",
    "\n",
    "\n",
    "\n",
    "\n",
    "\n",
    "\n",
    "\n",
    "\n",
    "\n",
    "\n",
    "20. Develop a program that checks if a given number is prime or not using nested if-else statements"
   ]
  },
  {
   "cell_type": "code",
   "execution_count": null,
   "metadata": {
    "colab": {
     "base_uri": "https://localhost:8080/"
    },
    "id": "rXCq7uvsWWH5",
    "outputId": "8baf27c0-9514-43ee-c56e-95acf328650a"
   },
   "outputs": [
    {
     "name": "stdout",
     "output_type": "stream",
     "text": [
      "Enter the number:  2\n",
      "2 is a prime number\n"
     ]
    }
   ],
   "source": [
    "n,f=int(input('Enter the number:  ')),False\n",
    "for i in range(2,int(n**0.5)+1):\n",
    "  if(n%2==0):\n",
    "    f=True\n",
    "    break\n",
    "if f:\n",
    "  print(f'{n} is not a prime number')\n",
    "else:\n",
    "  print(f'{n} is a prime number')"
   ]
  },
  {
   "cell_type": "markdown",
   "metadata": {
    "id": "jQKC43zMnbTC"
   },
   "source": []
  },
  {
   "cell_type": "markdown",
   "metadata": {
    "id": "RuenicIIntqZ"
   },
   "source": [
    "# Elif Statements"
   ]
  },
  {
   "cell_type": "markdown",
   "metadata": {
    "id": "EGEsYkT6rLUL"
   },
   "source": [
    "21. Write a Python program to assign grades based on different ranges of scores using elif statements.\n"
   ]
  },
  {
   "cell_type": "code",
   "execution_count": null,
   "metadata": {
    "colab": {
     "base_uri": "https://localhost:8080/"
    },
    "id": "ZdOk_SQ3rMIY",
    "outputId": "7d633c14-ad4b-43d4-ceca-6e635dccb16c"
   },
   "outputs": [
    {
     "name": "stdout",
     "output_type": "stream",
     "text": [
      "Enter the score:  39\n",
      "Grade is F.\n"
     ]
    }
   ],
   "source": [
    "n=int(input('Enter the score:  '))\n",
    "if(n>=90):\n",
    "  print('Grade is A.')\n",
    "elif(n>=80):\n",
    "  print('Grade is B.')\n",
    "elif(n>=70):\n",
    "  print('Grade is C.')\n",
    "elif(n>=60):\n",
    "  print('Grade is D.')\n",
    "elif(n>=40):\n",
    "  print('Grade is E.')\n",
    "elif(n>=0):\n",
    "  print('Grade is F.')\n",
    "else:\n",
    "  print('Invalid Input.')"
   ]
  },
  {
   "cell_type": "markdown",
   "metadata": {
    "id": "LeyY6E1gr7vg"
   },
   "source": [
    "\n",
    "22. Implement a program to determine the type of a triangle based on its angles."
   ]
  },
  {
   "cell_type": "code",
   "execution_count": null,
   "metadata": {
    "colab": {
     "base_uri": "https://localhost:8080/"
    },
    "id": "1cr936nor8pZ",
    "outputId": "3e9c92de-a534-430b-8047-27ee8fe63079"
   },
   "outputs": [
    {
     "name": "stdout",
     "output_type": "stream",
     "text": [
      "Enter the angles of the triangle: 80 60 40\n",
      "It is an acute angle triangle.\n"
     ]
    }
   ],
   "source": [
    "a,b,c=[int(x) for x in input('Enter the angles of the triangle: ').split()]\n",
    "if a+b+c!=180:\n",
    "  print('Invalid input.')\n",
    "elif a==90 or b==90 or c==90:\n",
    "  print('It is a right angle triangle.')\n",
    "elif a>=90 or b>=90 or c>=90:\n",
    "  print('It is an obtuse angle triangle.9')\n",
    "elif a<90 and b<90 and c<90:\n",
    "  print('It is an acute angle triangle.')"
   ]
  },
  {
   "cell_type": "markdown",
   "metadata": {
    "id": "4DnTDce9vdj1"
   },
   "source": [
    "23. Develop a program to categorize a given person's BMI into underweight, normal, overweight, or obese using\n",
    "elif statements.\n"
   ]
  },
  {
   "cell_type": "code",
   "execution_count": null,
   "metadata": {
    "colab": {
     "base_uri": "https://localhost:8080/"
    },
    "id": "Bafz9caYt3tu",
    "outputId": "29bc8f14-a807-4b86-fba4-b654e2dd977a"
   },
   "outputs": [
    {
     "name": "stdout",
     "output_type": "stream",
     "text": [
      "Enter the BMI:  30\n",
      "obese\n"
     ]
    }
   ],
   "source": [
    "n=float(input('Enter the BMI:  '))\n",
    "if n<18.5:\n",
    "  print('underweight')\n",
    "elif n<25:\n",
    "  print('normal')\n",
    "elif n<30:\n",
    "  print('overweight')\n",
    "else:\n",
    "  print('obese')"
   ]
  },
  {
   "cell_type": "markdown",
   "metadata": {
    "id": "likKgo-gxb-Q"
   },
   "source": [
    "24. Create a program that determines whether a given number is positive, negative, or zero using elif\n",
    "statements."
   ]
  },
  {
   "cell_type": "code",
   "execution_count": null,
   "metadata": {
    "colab": {
     "base_uri": "https://localhost:8080/"
    },
    "id": "LCaoT1C8xcmZ",
    "outputId": "03f0e019-d848-4a37-b0b5-043cb8a82007"
   },
   "outputs": [
    {
     "name": "stdout",
     "output_type": "stream",
     "text": [
      "Enter the number:  -7\n",
      "-7 is a negative Number.\n"
     ]
    }
   ],
   "source": [
    "n=int(input('Enter the number:  '))\n",
    "if n>0:\n",
    "  print(f'{n} is a positive Number.')\n",
    "elif n<0:\n",
    "  print(f'{n} is a negative Number.')\n",
    "else:\n",
    "  print('It is Zero.')"
   ]
  },
  {
   "cell_type": "markdown",
   "metadata": {
    "id": "vz-D90qGy-V6"
   },
   "source": [
    "25. Write a Python script to determine the type of a character (uppercase, lowercase, or special) using elif\n",
    "statements."
   ]
  },
  {
   "cell_type": "code",
   "execution_count": null,
   "metadata": {
    "colab": {
     "base_uri": "https://localhost:8080/"
    },
    "id": "g9c01fFly_Am",
    "outputId": "065b7192-9b2f-4295-9834-d29cc74144f3"
   },
   "outputs": [
    {
     "name": "stdout",
     "output_type": "stream",
     "text": [
      "Enter the character: @\n",
      "@ is a special character.\n"
     ]
    }
   ],
   "source": [
    "x=input('Enter the character: ')\n",
    "if x.islower():\n",
    "  print(f'{x} is a lowercase character.')\n",
    "elif x.isupper():\n",
    "  print(f'{x} is a uppercase character.')\n",
    "else:\n",
    "  print(f'{x} is a special character.')"
   ]
  },
  {
   "cell_type": "markdown",
   "metadata": {
    "id": "oBhv2O1n1QFL"
   },
   "source": [
    "26. Implement a program to calculate the discounted price based on different purchase amounts using elif\n",
    "statements."
   ]
  },
  {
   "cell_type": "code",
   "execution_count": null,
   "metadata": {
    "colab": {
     "base_uri": "https://localhost:8080/"
    },
    "id": "vV1v1rhS1Quw",
    "outputId": "8027f500-7a77-4e43-9344-2a65219196a6"
   },
   "outputs": [
    {
     "name": "stdout",
     "output_type": "stream",
     "text": [
      "Enter the actual price:  3500\n",
      "Enter the discount percent: 13\n",
      "discounted price is: 3045.0\n"
     ]
    }
   ],
   "source": [
    "actual_price = int(input('Enter the actual price:  '))\n",
    "discount = int(input('Enter the discount percent: '))\n",
    "discounted_price = actual_price - actual_price*(discount/100)\n",
    "print(f'discounted price is: {discounted_price}')"
   ]
  },
  {
   "cell_type": "markdown",
   "metadata": {
    "id": "DSqXY2yk3dGY"
   },
   "source": [
    "27. Develop a program to calculate the electricity bill based on different consumption slabs using elif\n",
    "statements."
   ]
  },
  {
   "cell_type": "code",
   "execution_count": null,
   "metadata": {
    "colab": {
     "base_uri": "https://localhost:8080/"
    },
    "id": "DMsEYPqg3d3X",
    "outputId": "205a49e0-2cc6-47f9-8ab1-ca9d02c2800c"
   },
   "outputs": [
    {
     "name": "stdout",
     "output_type": "stream",
     "text": [
      "Enter the unit: 301\n",
      "Total Electricity bill = 4525\n"
     ]
    }
   ],
   "source": [
    "unit,f = int(input('Enter the unit: ')),True\n",
    "if(unit<0):\n",
    "  f = False\n",
    "  print('Invalid Input')\n",
    "elif(unit<=100):\n",
    "  electricity_bill=unit*10\n",
    "elif(unit<=200):\n",
    "  electricity_bill=100*10+(unit-100)*15\n",
    "elif(unit<=300):\n",
    "  electricity_bill=100*10+100*15+(unit-200)*20\n",
    "else:\n",
    "  electricity_bill=100*10+100*15+100*20+(unit-300)*25\n",
    "if f:\n",
    "  print(f'Total Electricity bill = {electricity_bill}')"
   ]
  },
  {
   "cell_type": "markdown",
   "metadata": {
    "id": "XSXT6nkBrRO5"
   },
   "source": [
    "28. Create a program to determine the type of quadrilateral based on its angles and sides using elif\n",
    "statements."
   ]
  },
  {
   "cell_type": "code",
   "execution_count": null,
   "metadata": {
    "colab": {
     "base_uri": "https://localhost:8080/"
    },
    "id": "WoU_LpdarRtc",
    "outputId": "d28c73b1-8fc9-4983-8e18-f70b2899ba7c"
   },
   "outputs": [
    {
     "name": "stdout",
     "output_type": "stream",
     "text": [
      "Enter the 4 sides (1st&3rd and 2nd&4th sides are opposite.): 4 6 6 4\n",
      "Enter the 4 angles (1st&3rd and 2nd&4th angles are opposite.): 60 100 90 110\n",
      "It is a Kite.\n"
     ]
    }
   ],
   "source": [
    "a,b,c,d=map(int,input('Enter the 4 sides (1st&3rd and 2nd&4th sides are opposite.): ').split())\n",
    "w,x,y,z=map(int,input('Enter the 4 angles (1st&3rd and 2nd&4th angles are opposite.): ').split())\n",
    "if(w+x+y+z!=360):\n",
    "  input('Invalid quadrilateral')\n",
    "elif (a==c and b==d) and (a!=b and c!=d) and (w==y and x==z) and (w!=x and y!=z):\n",
    "  print('It is a Parallelogram.')\n",
    "elif (a==c and b==d) and (a!=b and c!=d) and (w==x==y==z==90):\n",
    "  print('It is a Rectangle.')\n",
    "elif (a==c==b==d) and (w==x==y==z==90):\n",
    "  print('It is a Square.')\n",
    "elif (a==c==b==d) and (w==y and x==z) and (w!=x and y!=z):\n",
    "  print('It is a Rhombus.')\n",
    "elif ((a==b and c==d) or (b==c and a==d)) and (a!=c and b!=d):\n",
    "  print('It is a Kite.')\n",
    "elif(((w+x)==180 and (y+z)==180) or ((x+y)==180 and (W+z)==180)):\n",
    "  print('It is a Trapezium.')"
   ]
  },
  {
   "cell_type": "markdown",
   "metadata": {
    "id": "jBAF4XojrG0b"
   },
   "source": [
    "\n",
    "\n",
    "\n",
    "\n",
    "\n",
    "29. Write a Python script to determine the season based on a user-provided month using elif statements.\n",
    "\n"
   ]
  },
  {
   "cell_type": "code",
   "execution_count": null,
   "metadata": {
    "colab": {
     "base_uri": "https://localhost:8080/"
    },
    "id": "fzZUKXyHr1WU",
    "outputId": "ce7dabbb-95c7-4f71-9b02-62dcbc9a33dd"
   },
   "outputs": [
    {
     "name": "stdout",
     "output_type": "stream",
     "text": [
      "Enter a month: 11\n",
      "Season is:  Winter\n"
     ]
    }
   ],
   "source": [
    "month = int(input(\"Enter a month: \"))\n",
    "if month == 1 or month == 2 or month == 3:\n",
    "  season = \"Spring\"\n",
    "elif month == 4 or month == 5 or month == 6:\n",
    "  season = \"Summer\"\n",
    "elif month == 7 or month == 8 or month == 9:\n",
    "  season = \"Fall\"\n",
    "elif month == 10 or month == 11 or month == 12:\n",
    "  season = \"Winter\"\n",
    "print(\"Season is: \", season)"
   ]
  },
  {
   "cell_type": "markdown",
   "metadata": {
    "id": "_IdHqEJar1wi"
   },
   "source": [
    "30. Implement a program to determine the type of a year (leap or common) and month (30 or 31 days) using\n",
    "elif statements"
   ]
  },
  {
   "cell_type": "code",
   "execution_count": null,
   "metadata": {
    "colab": {
     "base_uri": "https://localhost:8080/"
    },
    "id": "59B86eeRr2iy",
    "outputId": "bcdaaaf3-f6eb-4806-b0a8-198eae9e914c"
   },
   "outputs": [
    {
     "name": "stdout",
     "output_type": "stream",
     "text": [
      "Enter a year: 2000\n",
      "Enter a month: july\n",
      "2000 is a leap year.\n",
      "july has 31 days.\n"
     ]
    }
   ],
   "source": [
    "year = int(input(\"Enter a year: \"))\n",
    "month = input(\"Enter a month: \")\n",
    "if(year%400==0):\n",
    "  print(f'{year} is a leap year.')\n",
    "elif (year%4==0 and y%100!=0):\n",
    "  print(f'{year} is a leap year.')\n",
    "else:\n",
    "  print(f'{year} is a common year.')\n",
    "if month.upper() in ['JANUARY','MARCH','MAY','JULY','AUGUST','OCTOBER','DECEMBER']:\n",
    "  print(f'{month} has 31 days.')\n",
    "else:\n",
    "  print(f'{month} has 30 days.')"
   ]
  },
  {
   "cell_type": "markdown",
   "metadata": {
    "id": "_mmpclV6Exgn"
   },
   "source": [
    "# Basic Level"
   ]
  },
  {
   "cell_type": "markdown",
   "metadata": {
    "id": "ouIewb1gE4rE"
   },
   "source": [
    "\n",
    "\n",
    "\n",
    "\n",
    "1. Write a Python program that checks if a given number is positive, negative, or zero."
   ]
  },
  {
   "cell_type": "code",
   "execution_count": null,
   "metadata": {
    "colab": {
     "base_uri": "https://localhost:8080/"
    },
    "id": "ysKlclovE5Iv",
    "outputId": "4df515f8-1cd5-40da-c32c-21c95961e581"
   },
   "outputs": [
    {
     "name": "stdout",
     "output_type": "stream",
     "text": [
      "Enter the number:  0\n",
      "It is Zero.\n"
     ]
    }
   ],
   "source": [
    "n=int(input('Enter the number:  '))\n",
    "if n>0:\n",
    "  print(f'{n} is a positive Number.')\n",
    "elif n<0:\n",
    "  print(f'{n} is a negative Number.')\n",
    "else:\n",
    "  print('It is Zero.')"
   ]
  },
  {
   "cell_type": "markdown",
   "metadata": {
    "id": "jjmpvwefE8Jf"
   },
   "source": [
    "\n",
    "\n",
    "2. Create a program to determine if a person is eligible to vote based on their age."
   ]
  },
  {
   "cell_type": "code",
   "execution_count": null,
   "metadata": {
    "colab": {
     "base_uri": "https://localhost:8080/"
    },
    "id": "r0b0lh9NE8hZ",
    "outputId": "1cc0e765-c74c-46fe-eec5-5dfe40a41070"
   },
   "outputs": [
    {
     "name": "stdout",
     "output_type": "stream",
     "text": [
      "Enter your age:  18\n",
      "You are eligible to vote.\n"
     ]
    }
   ],
   "source": [
    "n=int(input(\"Enter your age:  \"))\n",
    "if(n<18):\n",
    "  print(\"You are not eligible to vote.\")\n",
    "else:\n",
    "  print(\"You are eligible to vote.\")"
   ]
  },
  {
   "cell_type": "markdown",
   "metadata": {
    "id": "hmul9sAtE_Kf"
   },
   "source": [
    "\n",
    "\n",
    "3. Write a program to find the maximum of two given numbers using conditional statements."
   ]
  },
  {
   "cell_type": "code",
   "execution_count": null,
   "metadata": {
    "colab": {
     "base_uri": "https://localhost:8080/"
    },
    "id": "TNfNTnNcFBHg",
    "outputId": "cff8a875-4de5-4a5b-97f6-5363f7d1545b"
   },
   "outputs": [
    {
     "name": "stdout",
     "output_type": "stream",
     "text": [
      "Enter the 1st number: 6\n",
      "Enter the 2nd number: 9\n",
      "9 is maximum.\n"
     ]
    }
   ],
   "source": [
    "x=int(input('Enter the 1st number: '))\n",
    "y=int(input('Enter the 2nd number: '))\n",
    "if(x>y):\n",
    "  print(f'{x} is maximum.')\n",
    "else:\n",
    "  print(f'{y} is maximum.')"
   ]
  },
  {
   "cell_type": "markdown",
   "metadata": {
    "id": "OYgCJjCPFBiq"
   },
   "source": [
    "\n",
    "\n",
    "4. Develop a program that calculates the grade of a student based on their exam score.\n"
   ]
  },
  {
   "cell_type": "code",
   "execution_count": null,
   "metadata": {
    "colab": {
     "base_uri": "https://localhost:8080/"
    },
    "id": "BZtfuvVmFDzg",
    "outputId": "fc72b4f2-73fb-46ba-b619-156b91befa7a"
   },
   "outputs": [
    {
     "name": "stdout",
     "output_type": "stream",
     "text": [
      "Enter the score:  67\n",
      "Grade is D.\n"
     ]
    }
   ],
   "source": [
    "n=int(input('Enter the score:  '))\n",
    "if(n>=90):\n",
    "  print('Grade is A.')\n",
    "elif(n>=80):\n",
    "  print('Grade is B.')\n",
    "elif(n>=70):\n",
    "  print('Grade is C.')\n",
    "elif(n>=60):\n",
    "  print('Grade is D.')\n",
    "elif(n>=40):\n",
    "  print('Grade is E.')\n",
    "elif(n>=0):\n",
    "  print('Grade is F.')\n",
    "else:\n",
    "  print('Invalid Input.')"
   ]
  },
  {
   "cell_type": "markdown",
   "metadata": {
    "id": "twVOyN0xGO6A"
   },
   "source": [
    "5. Create a program that checks if a year is a leap year or not."
   ]
  },
  {
   "cell_type": "code",
   "execution_count": null,
   "metadata": {
    "colab": {
     "base_uri": "https://localhost:8080/"
    },
    "id": "QnHOhPXRGP3K",
    "outputId": "d3181607-c80c-4e01-b793-6112355905d9"
   },
   "outputs": [
    {
     "name": "stdout",
     "output_type": "stream",
     "text": [
      "Enter a year: 1997\n",
      "1997 is not a leap year.\n"
     ]
    }
   ],
   "source": [
    "year = int(input(\"Enter a year: \"))\n",
    "if(year%400==0):\n",
    "  print(f'{year} is a leap year.')\n",
    "elif (year%4==0 and y%100!=0):\n",
    "  print(f'{year} is a leap year.')\n",
    "else:\n",
    "  print(f'{year} is not a leap year.')"
   ]
  },
  {
   "cell_type": "markdown",
   "metadata": {
    "id": "2_F6uFEsGSEM"
   },
   "source": [
    "\n",
    "\n",
    "\n",
    "6. Write a program to classify a triangle based on its sides' lengths."
   ]
  },
  {
   "cell_type": "code",
   "execution_count": null,
   "metadata": {
    "colab": {
     "base_uri": "https://localhost:8080/"
    },
    "id": "qFuz6BqhGSzg",
    "outputId": "8afc4836-4110-4364-da78-da54532cfa62"
   },
   "outputs": [
    {
     "name": "stdout",
     "output_type": "stream",
     "text": [
      "Enter the three sides of the triangle: 9 8 6\n",
      "It is a scalene triangle.\n"
     ]
    }
   ],
   "source": [
    "a,b,c=[int(x) for x in input('Enter the three sides of the triangle: ').split()]\n",
    "if a==b==c:\n",
    "  print('It is a equilateral triangle.')\n",
    "elif a==b or b==c or a==c:\n",
    "  print('It is a isosceles triangle.')\n",
    "elif a!=b!=c:\n",
    "  print('It is a scalene triangle.')"
   ]
  },
  {
   "cell_type": "markdown",
   "metadata": {
    "id": "ufxUi_kNGUkV"
   },
   "source": [
    "\n",
    "\n",
    "7. Build a program that determines the largest of three given numbers."
   ]
  },
  {
   "cell_type": "code",
   "execution_count": null,
   "metadata": {
    "colab": {
     "base_uri": "https://localhost:8080/"
    },
    "id": "e8Y2ktSNGVk_",
    "outputId": "6a868fd9-6171-4e2e-a2d6-88e6a7cb4f85"
   },
   "outputs": [
    {
     "name": "stdout",
     "output_type": "stream",
     "text": [
      "Enter the three numbers: 0 4 7\n",
      "7 is largest.\n"
     ]
    }
   ],
   "source": [
    "a,b,c=map(int,input('Enter the three numbers: ').split())\n",
    "if a>b and a>c:\n",
    "  print(f'{a} is largest.')\n",
    "elif b>c and b>a:\n",
    "  print(f'{b} is largest.')\n",
    "else:\n",
    "  print(f'{c} is largest.')"
   ]
  },
  {
   "cell_type": "markdown",
   "metadata": {
    "id": "mDQS48-xGXdX"
   },
   "source": [
    "\n",
    "\n",
    "8. Develop a program that checks whether a character is a vowel or a consonant"
   ]
  },
  {
   "cell_type": "code",
   "execution_count": null,
   "metadata": {
    "colab": {
     "base_uri": "https://localhost:8080/"
    },
    "id": "uFQisPI-GYDq",
    "outputId": "9e636787-cef7-4fd8-c145-8a6e275cbf9d"
   },
   "outputs": [
    {
     "name": "stdout",
     "output_type": "stream",
     "text": [
      "Enter the character: a\n",
      "a is a vowel.\n"
     ]
    }
   ],
   "source": [
    "c=input('Enter the character: ')\n",
    "if c.upper() in ['A','E','I','O','U']:\n",
    "  print(f'{c} is a vowel.')\n",
    "else:\n",
    "  print(f'{c} is a consonant.')"
   ]
  },
  {
   "cell_type": "markdown",
   "metadata": {
    "id": "0TXs7Yn7EyRS"
   },
   "source": [
    "\n",
    "\n",
    "9. Create a program to calculate the total cost of a shopping cart based on discounts.\n"
   ]
  },
  {
   "cell_type": "code",
   "execution_count": null,
   "metadata": {
    "colab": {
     "base_uri": "https://localhost:8080/"
    },
    "id": "fa-kOJ-cGZnC",
    "outputId": "ea3d2078-04db-493e-fb79-3517e744e1d5"
   },
   "outputs": [
    {
     "name": "stdout",
     "output_type": "stream",
     "text": [
      "Enter the actual price:  900\n",
      "Enter the discount percent: 15\n",
      "discounted price is: 765.0\n"
     ]
    }
   ],
   "source": [
    "actual_price = int(input('Enter the actual price:  '))\n",
    "discount = int(input('Enter the discount percent: '))\n",
    "discounted_price = actual_price - actual_price*(discount/100)\n",
    "print(f'discounted price is: {discounted_price}')"
   ]
  },
  {
   "cell_type": "markdown",
   "metadata": {
    "id": "i-c5NqJfGaC-"
   },
   "source": [
    "\n",
    "10. Write a program that checks if a given number is even or odd"
   ]
  },
  {
   "cell_type": "code",
   "execution_count": null,
   "metadata": {
    "colab": {
     "base_uri": "https://localhost:8080/"
    },
    "id": "pddotoifGau5",
    "outputId": "fa183dea-1f80-4c9c-cbca-4ccc4c9e969f"
   },
   "outputs": [
    {
     "name": "stdout",
     "output_type": "stream",
     "text": [
      "Enter the number:  13\n",
      "13 is a odd number.\n"
     ]
    }
   ],
   "source": [
    "n=int(input('Enter the number:  '))\n",
    "if n%2==0:\n",
    "  print(f'{n} is a even number.')\n",
    "else:\n",
    "  print(f'{n} is a odd number.')"
   ]
  },
  {
   "cell_type": "markdown",
   "metadata": {
    "id": "blSzgqGiJP5N"
   },
   "source": [
    "# Intermediate Level"
   ]
  },
  {
   "cell_type": "markdown",
   "metadata": {
    "id": "ENNu-wTmJegv"
   },
   "source": [
    "11. Write a program that calculates the roots of a quadratic equation ."
   ]
  },
  {
   "cell_type": "code",
   "execution_count": null,
   "metadata": {
    "colab": {
     "base_uri": "https://localhost:8080/"
    },
    "id": "-H9ZHQA2Jv2j",
    "outputId": "a2f93818-93e4-4c4a-8f8a-5ec2759f2718"
   },
   "outputs": [
    {
     "name": "stdout",
     "output_type": "stream",
     "text": [
      "Enter the value of a, b, c: 8 6 4\n",
      "Complex roots are: -0.375+0.5994789404140899i and -0.375-0.5994789404140899i.\n"
     ]
    }
   ],
   "source": [
    "a,b,c=[int(x) for x in input('Enter the value of a, b, c: ').split()]\n",
    "if(a==0):\n",
    "  print('invalid input')\n",
    "else:\n",
    "  d=(b**2)-(4*a*c)\n",
    "  sqrt=(abs(d)**0.5)\n",
    "  e=-b/(2*a)\n",
    "  if d>0:\n",
    "    print(f'Real and different roots are: {(-b+sqrt)/(2*a)} and {(-b-sqrt)/(2*a)}.')\n",
    "  elif d==0:\n",
    "    print(f'Real and same roots are: {e}')\n",
    "  else:\n",
    "    print(f'Complex roots are: {e}+{sqrt/(2*a)}i and {e}-{sqrt/(2*a)}i.')\n"
   ]
  },
  {
   "cell_type": "markdown",
   "metadata": {
    "id": "4h9EO1I8M07i"
   },
   "source": [
    "12. Create a program that determines the day of the week based on the day number (1-7).\n"
   ]
  },
  {
   "cell_type": "code",
   "execution_count": null,
   "metadata": {
    "colab": {
     "base_uri": "https://localhost:8080/"
    },
    "id": "gSXa-OLSM1rT",
    "outputId": "7d627203-0dae-4a09-cee3-1d6a27a35473"
   },
   "outputs": [
    {
     "name": "stdout",
     "output_type": "stream",
     "text": [
      "enter the number:  7\n",
      "Sunday\n"
     ]
    }
   ],
   "source": [
    "n=int(input('enter the number:  '))\n",
    "if n==1:\n",
    "  print('Monday')\n",
    "elif n==2:\n",
    "  print('Tuesday')\n",
    "elif n==3:\n",
    "  print('Wednesday')\n",
    "elif n==4:\n",
    "  print('Thursday')\n",
    "elif n==5:\n",
    "  print('Friday')\n",
    "elif n==6:\n",
    "  print('Saturday')\n",
    "elif n==7:\n",
    "  print('Sunday')\n",
    "else:\n",
    "  print('Invalid input.')"
   ]
  },
  {
   "cell_type": "markdown",
   "metadata": {
    "id": "qL7zBK0cObVF"
   },
   "source": [
    "\n",
    "13. Develop a program that calculates the factorial of a given number using recursion.\n"
   ]
  },
  {
   "cell_type": "code",
   "execution_count": null,
   "metadata": {
    "colab": {
     "base_uri": "https://localhost:8080/"
    },
    "id": "wgrhNiDZOcKz",
    "outputId": "7ce9c1ee-9616-4b45-d2d6-12343a8421ac"
   },
   "outputs": [
    {
     "name": "stdout",
     "output_type": "stream",
     "text": [
      "enter the number:  5\n",
      "Factorial of 5 is: 120\n"
     ]
    }
   ],
   "source": [
    "def fact(n):\n",
    "  if n==1:\n",
    "    return 1\n",
    "  else:\n",
    "    return n*fact(n-1)\n",
    "\n",
    "n=int(input('enter the number:  '))\n",
    "f=fact(n)\n",
    "print(f'Factorial of {n} is: {f}')"
   ]
  },
  {
   "cell_type": "markdown",
   "metadata": {
    "id": "9kfdsc8oOeWp"
   },
   "source": [
    "14. Write a program to find the largest among three numbers without using the `max()` function."
   ]
  },
  {
   "cell_type": "code",
   "execution_count": null,
   "metadata": {
    "colab": {
     "base_uri": "https://localhost:8080/"
    },
    "id": "xNJy6ZRhOfNO",
    "outputId": "e83eb594-7183-4b57-dba5-55abb62193b0"
   },
   "outputs": [
    {
     "name": "stdout",
     "output_type": "stream",
     "text": [
      "Enter the three numbers:  6 9 3\n",
      "9 is largest.\n"
     ]
    }
   ],
   "source": [
    "a,b,c=map(int,input('Enter the three numbers: ').split())\n",
    "if a>b and a>c:\n",
    "  print(f'{a} is largest.')\n",
    "elif b>c and b>a:\n",
    "  print(f'{b} is largest.')\n",
    "else:\n",
    "  print(f'{c} is largest.')"
   ]
  },
  {
   "cell_type": "markdown",
   "metadata": {
    "id": "jZQUZ4kZyYuH"
   },
   "source": [
    "15. Create a program that simulates a basic ATM transaction menu."
   ]
  },
  {
   "cell_type": "code",
   "execution_count": null,
   "metadata": {
    "colab": {
     "base_uri": "https://localhost:8080/"
    },
    "id": "cy-5tC_kyZme",
    "outputId": "434b22e0-5b2d-4d1f-f6a5-8cd819fbebe6"
   },
   "outputs": [
    {
     "name": "stdout",
     "output_type": "stream",
     "text": [
      "Enter your pin: 1234\n",
      "Press 1 to check balance.\n",
      "Press 2 to withdraw.\n",
      "2\n",
      "enter the ammount you want to withdraw: 10000\n",
      "Transaction successful. Please collect Your Cash.\n",
      "If you want to check your balance; Press Y.\n",
      "Y\n",
      "Your balance is: 15000\n"
     ]
    }
   ],
   "source": [
    "def Check_balance(balance):\n",
    "  print(f'Your balance is: {balance}')\n",
    "\n",
    "def withdraw_money(balance,ammount):\n",
    "  if( ammount<=20000 and balance>=ammount ):\n",
    "    balance=balance-ammount\n",
    "    print('Transaction successful. Please collect Your Cash.')\n",
    "    choice=input('If you want to check your balance; Press Y.\\n')\n",
    "    if choice.upper()=='Y':\n",
    "      Check_balance(balance)\n",
    "    else:\n",
    "      pass\n",
    "  else:\n",
    "      print('Transaction declined!!!',end=\" \")\n",
    "      if(balance<ammount):\n",
    "        print('Insufficient balance.')\n",
    "      else:\n",
    "        print('You need to enter a ammount lesser than or euqal to 20,000.')\n",
    "\n",
    "\n",
    "pin,balance=1234,25000\n",
    "p=int(input('Enter your pin: '))\n",
    "if(p!=pin):\n",
    "  print('Incorrect Pin')\n",
    "else:\n",
    "  ch=int(input('Press 1 to check balance.\\nPress 2 to withdraw.\\n'))\n",
    "  if ch==1:\n",
    "    Check_balance(balance)\n",
    "  elif ch==2:\n",
    "    ammount=int(input('enter the ammount you want to withdraw: '))\n",
    "    withdraw_money(balance,ammount)"
   ]
  },
  {
   "cell_type": "markdown",
   "metadata": {
    "id": "GAIA1ht7yfIX"
   },
   "source": [
    "16. Build a program that checks if a given string is a palindrome or not."
   ]
  },
  {
   "cell_type": "code",
   "execution_count": null,
   "metadata": {
    "colab": {
     "base_uri": "https://localhost:8080/"
    },
    "id": "PO7aoWX1yf9i",
    "outputId": "87d5bd19-cabc-46b1-fea4-63337dd04560"
   },
   "outputs": [
    {
     "name": "stdout",
     "output_type": "stream",
     "text": [
      "Enter the string:  level\n",
      "level is a palindrome string.\n"
     ]
    }
   ],
   "source": [
    "p=input('Enter the string:  ')\n",
    "q=p[::-1]\n",
    "if p==q:\n",
    "  print(f'{p} is a palindrome string.')\n",
    "else:\n",
    "  print(f'{p} is not a palindrome string.')"
   ]
  },
  {
   "cell_type": "markdown",
   "metadata": {
    "id": "_msB1pH-EbLh"
   },
   "source": [
    "17. Write a program that calculates the average of a list of numbers, excluding the smallest and largest values."
   ]
  },
  {
   "cell_type": "code",
   "execution_count": null,
   "metadata": {
    "colab": {
     "base_uri": "https://localhost:8080/"
    },
    "id": "q9RqowZNEcEw",
    "outputId": "2bcbcbb7-92e6-4ba7-9b27-56d97abbea14"
   },
   "outputs": [
    {
     "name": "stdout",
     "output_type": "stream",
     "text": [
      "Enter the number of elements: 5\n",
      "Enter the elements: \n",
      "1\n",
      "9\n",
      "5\n",
      "8\n",
      "4\n",
      "The average of the list, excluding the smallest and largest values is: 5.67\n"
     ]
    }
   ],
   "source": [
    "from functools import reduce\n",
    "n,l=int(input('Enter the number of elements: ')),[]\n",
    "print('Enter the elements: ')\n",
    "for i in range(n):\n",
    "  l.append(int(input()))\n",
    "l.sort()\n",
    "\n",
    "avg=f'{reduce((lambda a,b:a+b),l[1:-1])/(len(l[1:-1])):,.2f}'\n",
    "print(f'The average of the list, excluding the smallest and largest values is: {avg}')"
   ]
  },
  {
   "cell_type": "markdown",
   "metadata": {
    "id": "jvqmjY_4fJkw"
   },
   "source": [
    "18. Develop a program that converts a given temperature from Celsius to Fahrenheit."
   ]
  },
  {
   "cell_type": "code",
   "execution_count": null,
   "metadata": {
    "colab": {
     "base_uri": "https://localhost:8080/"
    },
    "id": "Ksb5Z0wrfKUY",
    "outputId": "7641d036-669c-44d6-c7f5-221ee068dc6b"
   },
   "outputs": [
    {
     "name": "stdout",
     "output_type": "stream",
     "text": [
      "Enter the temperature in Celsius: 100\n",
      "Temperature in Fahrenheit : 212.0\n"
     ]
    }
   ],
   "source": [
    "n=int(input('Enter the temperature in Celsius: '))\n",
    "print(f'Temperature in Fahrenheit : {(n*1.8)+32}')"
   ]
  },
  {
   "cell_type": "markdown",
   "metadata": {
    "id": "UU4p_c-lJMTb"
   },
   "source": [
    "\n",
    "19. Create a program that simulates a basic calculator for addition, subtraction, multiplication, and division."
   ]
  },
  {
   "cell_type": "code",
   "execution_count": null,
   "metadata": {
    "colab": {
     "base_uri": "https://localhost:8080/"
    },
    "id": "_EVHJmU-gK48",
    "outputId": "00d374e4-4932-4869-f957-e172e7be564b"
   },
   "outputs": [
    {
     "name": "stdout",
     "output_type": "stream",
     "text": [
      "Enter the 2 number: 6 7\n",
      "For Addition: Press 1\n",
      "For Subtraction: Press 2\n",
      "For Multiplication: Press 3\n",
      "For Division: Press 4\n",
      "2\n",
      "Subtraction of 6 & 7 is -1.\n"
     ]
    }
   ],
   "source": [
    "x,y=[int(i) for i in input('Enter the 2 number: ').split()[:2]]\n",
    "ch=input('For Addition: Press 1\\nFor Subtraction: Press 2\\nFor Multiplication: Press 3\\nFor Division: Press 4\\n')\n",
    "\n",
    "if ch=='1':\n",
    "  print(f'Addition of {x} & {y} is {x+y}.')\n",
    "\n",
    "elif ch=='2':\n",
    "  print(f'Subtraction of {x} & {y} is {x-y}.')\n",
    "\n",
    "elif ch=='3':\n",
    "  print(f'Multiplication of {x} & {y} is {x*y}.')\n",
    "\n",
    "elif ch=='4':\n",
    "  try:\n",
    "    print(f'Division of {x} & {y} is {x/y}.')\n",
    "  except:\n",
    "    print(f'Division not Possible by {y}.')"
   ]
  },
  {
   "cell_type": "markdown",
   "metadata": {
    "id": "lrUhhZABEvQk"
   },
   "source": [
    "20. Write a program that determines the roots of a cubic equation using the Cardano formula."
   ]
  },
  {
   "cell_type": "code",
   "execution_count": null,
   "metadata": {
    "colab": {
     "base_uri": "https://localhost:8080/"
    },
    "id": "1sYbm7YgEv6u",
    "outputId": "75c3b377-dd13-4aa7-8f08-5567f129e69d"
   },
   "outputs": [
    {
     "name": "stdout",
     "output_type": "stream",
     "text": [
      "Enter the coefficients (a, b, c, d) of the cubic equation: 1 3 1 3\n",
      "Roots of the cubic equation: ((-2-1.7320508075688772j), (1.7320508075688772+0.7320508075688772j), (-1.7320508075688767+2.732050807568877j))\n"
     ]
    }
   ],
   "source": [
    "import math\n",
    "\n",
    "def cubic_roots(a, b, c, d):\n",
    "   p = (3 * a * c - b**2) / (3 * a**2)\n",
    "   q = (2 * b**3 - 9 * a * b * c + 27 * a**2 * d) / (27 * a**3)\n",
    "   discriminant = (q/2)**2 + (p/3)**3\n",
    "\n",
    "   if discriminant > 0:\n",
    "       u = (-q/2 + discriminant**0.5)**(1/3)\n",
    "       v = (-q/2 - discriminant**0.5)**(1/3)\n",
    "       real_root = u + v\n",
    "       imaginary_root = (u - v) * math.sqrt(3)\n",
    "\n",
    "       root1 = -b / (3 * a) - real_root\n",
    "       root2 = -b / (3 * a) + (real_root + imaginary_root * 1j)\n",
    "       root3 = -b / (3 * a) + (real_root - imaginary_root * 1j)\n",
    "   elif discriminant == 0:\n",
    "       if q < 0:\n",
    "           u = (-q/2)**(1/3)\n",
    "           root1 = 2 * u - b / (3 * a)\n",
    "           root2 = -u - b / (3 * a)\n",
    "           root3 = root2\n",
    "       else:\n",
    "           root1 = -b / (3 * a) - (3 * d / c)\n",
    "           root2 = root1\n",
    "           root3 = -b / (3 * a) + (3 * d / c)\n",
    "   else:\n",
    "       r = (-q/2 + (-(q/2)**2 + (p/3)**3)**0.5)**(1/3)\n",
    "       theta = math.acos(-q / (2 * r))\n",
    "       root1 = 2 * r * math.cos(theta/3) - b / (3 * a)\n",
    "       root2 = 2 * r * math.cos((theta + 2 * math.pi) / 3) - b / (3 * a)\n",
    "       root3 = 2 * r * math.cos((theta + 4 * math.pi) / 3) - b / (3 * a)\n",
    "\n",
    "   return root1, root2, root3\n",
    "\n",
    "a,b,c,d=[int(i) for i in input('Enter the coefficients (a, b, c, d) of the cubic equation: ').split()[:4]]\n",
    "roots = cubic_roots(a, b, c, d)\n",
    "print(f'Roots of the cubic equation: {roots}')"
   ]
  },
  {
   "cell_type": "markdown",
   "metadata": {
    "id": "kvC75tF6ozy7"
   },
   "source": [
    "# Advanced Level:"
   ]
  },
  {
   "cell_type": "markdown",
   "metadata": {
    "id": "Om4vnVUPoxhK"
   },
   "source": [
    "21. Create a program that calculates the income tax based on the user's income and tax brackets."
   ]
  },
  {
   "cell_type": "code",
   "execution_count": null,
   "metadata": {
    "colab": {
     "base_uri": "https://localhost:8080/"
    },
    "id": "p0PuHlAIrJKO",
    "outputId": "9b34243c-5575-4bb6-c197-18dd4d0f9fee"
   },
   "outputs": [
    {
     "name": "stdout",
     "output_type": "stream",
     "text": [
      "Enter your annual income: 593579\n",
      "Total tax applicable at ₹593579.0 is ₹21857.9\n"
     ]
    }
   ],
   "source": [
    "def calculate(amount, percent):\n",
    "    return (amount * percent) / 100\n",
    "\n",
    "def calculate_income_tax(total_income):\n",
    "\n",
    "    if total_income <= 250000:\n",
    "        return 0\n",
    "    elif total_income <= 500000:\n",
    "        return calculate(total_income -\n",
    "                         250000, 5)\n",
    "    elif total_income <= 750000:\n",
    "        return calculate(total_income -\n",
    "                         500000, 10) + 12500\n",
    "    elif total_income <= 1000000:\n",
    "        return calculate(total_income -\n",
    "                         750000, 15) + 37500\n",
    "    elif total_income <= 1250000:\n",
    "        return calculate(total_income -\n",
    "                         1000000, 20) + 75000\n",
    "    elif total_income <= 1500000:\n",
    "        return calculate(total_income -\n",
    "                         1250000, 25) + 125000\n",
    "    else:\n",
    "        return calculate(total_income -\n",
    "                         1500000, 30) + 187500\n",
    "\n",
    "\n",
    "if __name__ == '__main__':\n",
    "    total_income = float(input(\"Enter your annual income: \"))\n",
    "    tax = calculate_income_tax(total_income)\n",
    "    print(f'Total tax applicable at ₹{total_income} is ₹{tax}')"
   ]
  },
  {
   "cell_type": "markdown",
   "metadata": {
    "id": "wW_hRho6o9a_"
   },
   "source": [
    "22. Write a program that simulates a rock-paper-scissors game against the computer."
   ]
  },
  {
   "cell_type": "code",
   "execution_count": null,
   "metadata": {
    "colab": {
     "base_uri": "https://localhost:8080/"
    },
    "id": "Bnx3R2Okt6AB",
    "outputId": "fb9a9203-eb33-4a1d-9a74-0b01bf03b00b"
   },
   "outputs": [
    {
     "name": "stdout",
     "output_type": "stream",
     "text": [
      "Winning rules of the game ROCK PAPER SCISSORS are:\n",
      "Rock vs Paper -> Paper wins \n",
      "Rock vs Scissors -> Rock wins \n",
      "Paper vs Scissors -> Scissor wins \n",
      "\n",
      "Enter your choice: \n",
      " 1 - Rock \n",
      " 2 - Paper \n",
      " 3 - Scissors\n",
      "Enter your choice: 1\n",
      "Your choice is: Rock\n",
      "Now its Computers Turn....\n",
      "Computer choice is: Paper\n",
      "Rock vs Paper\n",
      "<== Computer wins ==>\n",
      "Do you want to play again? (Y/N): Y\n",
      "Enter your choice: \n",
      " 1 - Rock \n",
      " 2 - Paper \n",
      " 3 - Scissors\n",
      "Enter your choice: 3\n",
      "Your choice is: Scissors\n",
      "Now its Computers Turn....\n",
      "Computer choice is: Rock\n",
      "Scissors vs Rock\n",
      "<== Computer wins ==>\n",
      "Do you want to play again? (Y/N): Y\n",
      "Enter your choice: \n",
      " 1 - Rock \n",
      " 2 - Paper \n",
      " 3 - Scissors\n",
      "Enter your choice: 4\n",
      "Please enter a valid choice.\n",
      "Enter your choice: 2\n",
      "Your choice is: Paper\n",
      "Now its Computers Turn....\n",
      "Computer choice is: Rock\n",
      "Paper vs Rock\n",
      "<== User wins ==>\n",
      "Do you want to play again? (Y/N): N\n",
      "User: 1\n",
      "Computer: 2\n"
     ]
    }
   ],
   "source": [
    "from random import randint\n",
    "\n",
    "def ch_con(choice):\n",
    "  if choice == 1:\n",
    "    return 'Rock'\n",
    "  elif choice == 2:\n",
    "    return 'Paper'\n",
    "  else:\n",
    "    return 'Scissors'\n",
    "\n",
    "def check(l):\n",
    "  if l[0] == l[1]:\n",
    "    return \"Tie\"\n",
    "  elif 'Rock' in l and 'Paper' in l:\n",
    "    return 'Paper'\n",
    "  elif 'Rock' in l and 'Scissors' in l:\n",
    "    return 'Rock'\n",
    "  elif 'Paper' in l and 'Scissors' in l:\n",
    "    return 'Scissors'\n",
    "\n",
    "user,comp=0,0\n",
    "print('Winning rules of the game ROCK PAPER SCISSORS are:\\n'\n",
    "      + \"Rock vs Paper -> Paper wins \\n\"\n",
    "      + \"Rock vs Scissors -> Rock wins \\n\"\n",
    "      + \"Paper vs Scissors -> Scissor wins \\n\")\n",
    "\n",
    "while True:\n",
    "  print(\"Enter your choice: \\n 1 - Rock \\n 2 - Paper \\n 3 - Scissors\")\n",
    "  while True:\n",
    "    choice=int(input('Enter your choice: '))\n",
    "    if choice > 3 or choice <1:\n",
    "      print('Please enter a valid choice.')\n",
    "      continue\n",
    "    else:\n",
    "      break\n",
    "\n",
    "  user_choice=ch_con(choice)\n",
    "\n",
    "  print(f'Your choice is: {user_choice}')\n",
    "  print('Now its Computers Turn....')\n",
    "  '''while comp_choice == choice:\n",
    "    comp_choice = random.randint(1,3)'''\n",
    "  comp_choice=ch_con(randint(1,3))\n",
    "  print(f'Computer choice is: {comp_choice}')\n",
    "  print(f'{user_choice} vs {comp_choice}')\n",
    "  ch_list=[user_choice,comp_choice]\n",
    "  result=check(ch_list)\n",
    "\n",
    "  if result == comp_choice:\n",
    "    comp+=1\n",
    "    print(\"<== Computer wins ==>\")\n",
    "  elif result == user_choice:\n",
    "    user+=1\n",
    "    print(\"<== User wins ==>\")\n",
    "  else:\n",
    "    print(\"<== Its a tie ==>\")\n",
    "\n",
    "  ans = input('Do you want to play again? (Y/N): ')\n",
    "  if ans.upper() =='N':\n",
    "    break\n",
    "\n",
    "print(f'User: {user}\\nComputer: {comp}')"
   ]
  },
  {
   "cell_type": "markdown",
   "metadata": {
    "id": "1xc9Hxz5o_zC"
   },
   "source": [
    "23. Develop a program that generates a random password based on user preferences (length, complexity)."
   ]
  },
  {
   "cell_type": "code",
   "execution_count": null,
   "metadata": {
    "colab": {
     "base_uri": "https://localhost:8080/"
    },
    "id": "_wwCHbuMTpwO",
    "outputId": "9eff70ed-b8b5-497a-f358-2e5ca62dbbe3"
   },
   "outputs": [
    {
     "name": "stdout",
     "output_type": "stream",
     "text": [
      "Enter the length of the password: 8\n",
      "Choose complexity:\n",
      " Only Numbers: Press 1\n",
      " Only letters: Press 2\n",
      " Numbers & Letters: Press 3\n",
      " Numbers & Letters & Special characters: Press 4\n",
      "4\n",
      "Paswword: \\5AbS?O[\n"
     ]
    }
   ],
   "source": [
    "import random\n",
    "import string\n",
    "\n",
    "def password_generator(n,op):\n",
    "    password=''\n",
    "    for i in range(n):\n",
    "        password+=random.choice(op)\n",
    "    return password\n",
    "\n",
    "n=int(input('Enter the length of the password: '))\n",
    "ch=input('Choose complexity:\\n Only Numbers: Press 1\\n Only letters: Press 2\\n Numbers & Letters: Press 3\\n Numbers & Letters & Special characters: Press 4\\n')\n",
    "let,num,spchar=string.ascii_letters,string.digits,string.punctuation\n",
    "\n",
    "if ch=='1':\n",
    "  pswd=password_generator(n,num)\n",
    "  print(f'Paswword: {pswd}')\n",
    "\n",
    "elif ch=='2':\n",
    "  pswd=password_generator(n,let)\n",
    "  print(f'Paswword: {pswd}')\n",
    "\n",
    "elif ch=='3':\n",
    "  pswd=password_generator(n,num+let)\n",
    "  print(f'Paswword: {pswd}')\n",
    "\n",
    "elif ch=='4':\n",
    "  pswd=password_generator(n,num+let+spchar)\n",
    "  print(f'Paswword: {pswd}')\n",
    "\n",
    "else:\n",
    "  print('Enter a valid choice')\n"
   ]
  },
  {
   "cell_type": "markdown",
   "metadata": {
    "id": "3-P5Q-p9pB3o"
   },
   "source": [
    "24. Create a program that implements a simple text-based adventure game with branching scenarios."
   ]
  },
  {
   "cell_type": "code",
   "execution_count": null,
   "metadata": {
    "colab": {
     "base_uri": "https://localhost:8080/"
    },
    "id": "aK-OsGwKTs5Q",
    "outputId": "17507b64-7c5e-4d6b-d498-6cb6c456d363"
   },
   "outputs": [
    {
     "name": "stdout",
     "output_type": "stream",
     "text": [
      "Welcome to the Adventure Game!\n",
      "As an avid traveler, you have decided to visit the Catacombs of Paris.\n",
      "However, during your exploration, you find yourself lost.\n",
      "You can choose to walk in multiple directions to find a way out.\n",
      "Let's start with your name: Ratul\n",
      "Good luck, Ratul.\n",
      "You are at a crossroads, and you can choose to go down any of the four hallways. Where would you like to go?\n",
      "Options: left/right/backward/forward\n",
      "right\n",
      "You see a wall of skeletons as you walk into the room. Someone is watching you. Where would you like to go?\n",
      "Options: left/backward/forward\n",
      "left\n",
      "You find that this door opens into a wall. You open some of the drywall to discover a knife.\n",
      "Options: left/backward/forward\n",
      "forward\n",
      "A strange goul-like creature has appeared. You can either run or fight it. What would you like to do?\n",
      "Options: flee/fight\n",
      "fight\n",
      "You kill the goul with the knife you found earlier. After moving forward, you find one of the exits. Congrats!\n"
     ]
    }
   ],
   "source": [
    "def introScene():\n",
    "  directions = [\"left\", \"right\", \"forward\"]\n",
    "  print(\"You are at a crossroads, and you can choose to go down any of the four hallways. Where would you like to go?\")\n",
    "  userInput = \"\"\n",
    "  while userInput not in directions:\n",
    "    print(\"Options: left/right/backward/forward\")\n",
    "    userInput = input()\n",
    "    if userInput == \"left\":\n",
    "      showShadowFigure()\n",
    "    elif userInput == \"right\":\n",
    "      showSkeletons()\n",
    "    elif userInput == \"forward\":\n",
    "      hauntedRoom()\n",
    "    elif userInput == \"backward\":\n",
    "      print(\"You find that this door opens into a wall.\")\n",
    "    else:\n",
    "      print(\"Please enter a valid option for the adventure game.\")\n",
    "\n",
    "def showShadowFigure():\n",
    "  directions = [\"right\", \"backward\"]\n",
    "  print(\"You see a dark shadowy figure appear in the distance. You are creeped out. Where would you like to go?\")\n",
    "  userInput = \"\"\n",
    "  while userInput not in directions:\n",
    "    print(\"Options: right/left/backward\")\n",
    "    userInput = input()\n",
    "    if userInput == \"right\":\n",
    "      cameraScene()\n",
    "    elif userInput == \"left\":\n",
    "      print(\"You find that this door opens into a wall.\")\n",
    "    elif userInput == \"backward\":\n",
    "      introScene()\n",
    "    else:\n",
    "      print(\"Please enter a valid option for the adventure game.\")\n",
    "\n",
    "def cameraScene():\n",
    "  directions = [\"forward\", \"backward\"]\n",
    "  print(\"You see a camera that has been dropped on the ground. Someone has been here recently. Where would you like to go?\")\n",
    "  userInput = \"\"\n",
    "  while userInput not in directions:\n",
    "    print(\"Options: forward/backward\")\n",
    "    userInput = input()\n",
    "    if userInput == \"forward\":\n",
    "      print(\"You made it! You've found an exit.\")\n",
    "      quit()\n",
    "    elif userInput == \"backward\":\n",
    "      showShadowFigure()\n",
    "    else:\n",
    "      print(\"Please enter a valid option for the adventure game.\")\n",
    "\n",
    "def hauntedRoom():\n",
    "  directions = [\"right\", \"left\", \"backward\"]\n",
    "  print(\"You hear strange voices. You think you have awoken some of the dead. Where would you like to go?\")\n",
    "  userInput = \"\"\n",
    "  while userInput not in directions:\n",
    "    print(\"Options: right/left/backward\")\n",
    "    userInput = input()\n",
    "    if userInput == \"right\":\n",
    "      print(\"Multiple goul-like creatures start emerging as you enter the room. You are killed.\")\n",
    "      quit()\n",
    "    elif userInput == \"left\":\n",
    "      print(\"You made it! You've found an exit.\")\n",
    "      quit()\n",
    "    elif userInput == \"backward\":\n",
    "      introScene()\n",
    "    else:\n",
    "      print(\"Please enter a valid option for the adventure game.\")\n",
    "\n",
    "def showSkeletons():\n",
    "  directions = [\"backward\", \"forward\"]\n",
    "  global weapon\n",
    "  print(\"You see a wall of skeletons as you walk into the room. Someone is watching you. Where would you like to go?\")\n",
    "  userInput = \"\"\n",
    "  while userInput not in directions:\n",
    "    print(\"Options: left/backward/forward\")\n",
    "    userInput = input()\n",
    "    if userInput == \"left\":\n",
    "      print(\"You find that this door opens into a wall. You open some of the drywall to discover a knife.\")\n",
    "      weapon = True\n",
    "    elif userInput == \"backward\":\n",
    "      introScene()\n",
    "    elif userInput == \"forward\":\n",
    "      strangeCreature()\n",
    "    else:\n",
    "      print(\"Please enter a valid option for the adventure game.\")\n",
    "\n",
    "def strangeCreature():\n",
    "  actions = [\"fight\", \"flee\"]\n",
    "  global weapon\n",
    "  print(\"A strange goul-like creature has appeared. You can either run or fight it. What would you like to do?\")\n",
    "  userInput = \"\"\n",
    "  while userInput not in actions:\n",
    "    print(\"Options: flee/fight\")\n",
    "    userInput = input()\n",
    "    if userInput == \"fight\":\n",
    "      if weapon:\n",
    "        print(\"You kill the goul with the knife you found earlier. After moving forward, you find one of the exits. Congrats!\")\n",
    "      else:\n",
    "        print(\"The goul-like creature has killed you.\")\n",
    "      quit()\n",
    "    elif userInput == \"flee\":\n",
    "      showSkeletons()\n",
    "    else:\n",
    "      print(\"Please enter a valid option for the adventure game.\")\n",
    "\n",
    "weapon = False\n",
    "\n",
    "if __name__ == \"__main__\":\n",
    "  print(\"Welcome to the Adventure Game!\")\n",
    "  print(\"As an avid traveler, you have decided to visit the Catacombs of Paris.\")\n",
    "  print(\"However, during your exploration, you find yourself lost.\")\n",
    "  print(\"You can choose to walk in multiple directions to find a way out.\")\n",
    "  name = input(\"Let's start with your name: \")\n",
    "  print(\"Good luck, \" +name+ \".\")\n",
    "  introScene()"
   ]
  },
  {
   "cell_type": "markdown",
   "metadata": {
    "id": "tzLos0JSpDoF"
   },
   "source": [
    "25. Build a program that solves a linear equation  for x, considering different cases."
   ]
  },
  {
   "cell_type": "code",
   "execution_count": null,
   "metadata": {
    "colab": {
     "base_uri": "https://localhost:8080/"
    },
    "id": "pysnCe84NlxW",
    "outputId": "096f275b-e86a-4f79-8362-ec57fbbc7b75"
   },
   "outputs": [
    {
     "name": "stdout",
     "output_type": "stream",
     "text": [
      "Enter your Equation: x+5-3+x=6+x-2\n",
      "x = 2\n"
     ]
    }
   ],
   "source": [
    "def solveEquation(equation) :\n",
    "\tn = len(equation)\n",
    "\tsign = 1\n",
    "\tcoeff = 0\n",
    "\ttotal = 0\n",
    "\ti = 0\n",
    "\tfor j in range(0, n) :\n",
    "\n",
    "\t\tif (equation[j] == '+' or\n",
    "\t\t\tequation[j] == '-') :\n",
    "\n",
    "\t\t\tif (j > i) :\n",
    "\t\t\t\ttotal = (total + sign *\n",
    "\t\t\t\t\t\tint(equation[i: j]))\n",
    "\t\t\ti = j\n",
    "\t\telif (equation[j] == 'x') :\n",
    "\n",
    "\t\t\tif ((i == j) or\n",
    "\t\t\t\tequation[j - 1] == '+') :\n",
    "\t\t\t\tcoeff += sign\n",
    "\t\t\telif (equation[j - 1] == '-') :\n",
    "\t\t\t\tcoeff = coeff - sign\n",
    "\t\t\telse :\n",
    "\t\t\t\tcoeff = (coeff + sign *\n",
    "\t\t\t\t\t\tint(equation[i: j]))\n",
    "\t\t\ti = j + 1\n",
    "\t\telif (equation[j] == '=') :\n",
    "\n",
    "\t\t\tif (j > i) :\n",
    "\t\t\t\ttotal = (total + sign *\n",
    "\t\t\t\t\t\tint(equation[i: j]))\n",
    "\t\t\tsign = -1\n",
    "\t\t\ti = j + 1\n",
    "\tif (i < n) :\n",
    "\t\ttotal = (total + sign *\n",
    "\t\t\t\tint(equation[i: len(equation)]))\n",
    "\tif (coeff == 0 and\n",
    "\t\ttotal == 0) :\n",
    "\t\treturn \"Infinite solutions\"\n",
    "\tif (coeff == 0 and total) :\n",
    "\t\treturn \"No solution\"\n",
    "\tans = -total / coeff\n",
    "\treturn int(ans)\n",
    "\n",
    "\n",
    "equation=input('Enter your Equation: ')\n",
    "print (\"x = {}\" .\n",
    "\t\tformat(solveEquation(equation)))"
   ]
  },
  {
   "cell_type": "markdown",
   "metadata": {
    "id": "cKtG77Y9pFqM"
   },
   "source": [
    "26. Write a program that simulates a basic quiz game with multiple-choice questions and scoring."
   ]
  },
  {
   "cell_type": "code",
   "execution_count": null,
   "metadata": {
    "colab": {
     "base_uri": "https://localhost:8080/"
    },
    "id": "gBKQ-X9NbogA",
    "outputId": "5e0a86c0-8c50-4536-df55-b1e872da930a"
   },
   "outputs": [
    {
     "name": "stdout",
     "output_type": "stream",
     "text": [
      "What is your name?Ratul\n",
      "Hello Ratul, welcome to Quiz night! \n",
      "You will be presented with 5 questions.\n",
      "Enter the appropriate number to answer the question\n",
      "Good luck!\n",
      "1. Who developed Python Programming Language?\n",
      "a) Wick van Rossum\n",
      "b) Rasmus Lerdorf\n",
      "c) Guido van Rossum\n",
      "d) Niene Stom\n",
      "Your answer is:c\n",
      "Well done! c is correct!\n",
      "Your current score is 1 out of 5\n",
      "2. Which of the following is the correct extension of the Python file?\n",
      "a) .python\n",
      "b) .pl\n",
      "c) .py\n",
      "d) .p\n",
      "Your answer is:c\n",
      "Well done! c is correct!\n",
      "Your current score is 2 out of 5\n",
      "3. Is Python code compiled or interpreted?\n",
      "a) Python code is both compiled and interpreted\n",
      "b) Python code is neither compiled nor interpreted\n",
      "c) Python code is only compiled\n",
      "d) Python code is only interpreted\n",
      "Your answer is:a\n",
      "Well done! a is correct!\n",
      "Your current score is 3 out of 5\n",
      "4. Which keyword is used for function in Python language?\n",
      "a) Function\n",
      "b) def\n",
      "c) Fun\n",
      "d) Define\n",
      "Your answer is:b\n",
      "Well done! b is correct!\n",
      "Your current score is 4 out of 5\n",
      "10. Which of the following character is used to give single-line comments in Python?\n",
      "a) //\n",
      "b) #\n",
      "c) !\n",
      "d) /*\n",
      "\n",
      "Your answer is:b\n",
      "Well done! b is correct!\n",
      "Your total score is 5 out of 5\n",
      "Thank you for playing Ratul, goodbye!\n"
     ]
    }
   ],
   "source": [
    "score = 0\n",
    "#score = int(score)\n",
    "\n",
    "#Ask user for their name\n",
    "name = input(\"What is your name?\")\n",
    "name = name.title()\n",
    "print(\"\"\"Hello {}, welcome to Quiz night!\n",
    "You will be presented with 5 questions.\n",
    "Enter the appropriate number to answer the question\n",
    "Good luck!\"\"\".format(name))\n",
    "\n",
    "#Question1\n",
    "print(\"\"\"1. Who developed Python Programming Language?\n",
    "a) Wick van Rossum\n",
    "b) Rasmus Lerdorf\n",
    "c) Guido van Rossum\n",
    "d) Niene Stom\"\"\")\n",
    "\n",
    "answer1 = \"c\"\n",
    "response1 = input(\"Your answer is:\")\n",
    "\n",
    "if (response1.lower() != answer1):\n",
    "    print(\"Sorry, that is incorrect!\")\n",
    "else:\n",
    "    print(\"Well done! \" + response1 + \" is correct!\")\n",
    "    score = score + 1\n",
    "\n",
    "print(\"Your current score is \" + str(score) + \" out of 5\")\n",
    "\n",
    "#Question2\n",
    "print(\"\"\"2. Which of the following is the correct extension of the Python file?\n",
    "a) .python\n",
    "b) .pl\n",
    "c) .py\n",
    "d) .p\"\"\")\n",
    "\n",
    "answer2 = \"c\"\n",
    "response2 = input(\"Your answer is:\")\n",
    "\n",
    "if (response2.lower() != answer2):\n",
    "    print(\"Sorry, that is incorrect!\")\n",
    "else:\n",
    "    print(\"Well done! \" + response2 + \" is correct!\")\n",
    "    score = score + 1\n",
    "\n",
    "print(\"Your current score is \" + str(score) + \" out of 5\")\n",
    "\n",
    "#Question3\n",
    "print(\"\"\"3. Is Python code compiled or interpreted?\n",
    "a) Python code is both compiled and interpreted\n",
    "b) Python code is neither compiled nor interpreted\n",
    "c) Python code is only compiled\n",
    "d) Python code is only interpreted\"\"\")\n",
    "\n",
    "answer3 = \"a\"\n",
    "response3 = input(\"Your answer is:\")\n",
    "\n",
    "if (response3.lower() != answer3):\n",
    "    print(\"Sorry, that is incorrect!\")\n",
    "else:\n",
    "    print(\"Well done! \" + response3 + \" is correct!\")\n",
    "    score = score + 1\n",
    "\n",
    "print(\"Your current score is \" + str(score) + \" out of 5\")\n",
    "\n",
    "#Question4\n",
    "print(\"\"\"4. Which keyword is used for function in Python language?\n",
    "a) Function\n",
    "b) def\n",
    "c) Fun\n",
    "d) Define\"\"\")\n",
    "\n",
    "answer4 = \"b\"\n",
    "response4 = input(\"Your answer is:\")\n",
    "\n",
    "if (response4.lower() != answer4):\n",
    "    print(\"Sorry, that is incorrect!\")\n",
    "else:\n",
    "    print(\"Well done! \" + response4 + \" is correct!\")\n",
    "    score = score + 1\n",
    "\n",
    "print(\"Your current score is \" + str(score) + \" out of 5\")\n",
    "\n",
    "#Question5\n",
    "print(\"\"\"10. Which of the following character is used to give single-line comments in Python?\n",
    "a) //\n",
    "b) #\n",
    "c) !\n",
    "d) /*\n",
    "\"\"\")\n",
    "\n",
    "answer5 = \"b\"\n",
    "response5 = input(\"Your answer is:\")\n",
    "\n",
    "if (response5.lower() != answer5):\n",
    "    print(\"Sorry, that is incorrect!\")\n",
    "else:\n",
    "    print(\"Well done! \" + response5 + \" is correct!\")\n",
    "    score = score + 1\n",
    "\n",
    "print(\"Your total score is \" + str(score) + \" out of 5\")\n",
    "print(\"Thank you for playing {}, goodbye!\".format(name))"
   ]
  },
  {
   "cell_type": "markdown",
   "metadata": {
    "id": "mWzcoBw9pH4d"
   },
   "source": [
    "27. Develop a program that determines whether a given year is a prime number or not."
   ]
  },
  {
   "cell_type": "code",
   "execution_count": null,
   "metadata": {
    "colab": {
     "base_uri": "https://localhost:8080/"
    },
    "id": "DMFO01e9i4Ia",
    "outputId": "ae205e0b-bcbc-4324-9ece-e45411f76b31"
   },
   "outputs": [
    {
     "name": "stdout",
     "output_type": "stream",
     "text": [
      "Enter the year: 1999\n",
      "Given year is a prime number.\n"
     ]
    }
   ],
   "source": [
    "import math\n",
    "def prime(y):\n",
    "  for i in range(2,int(math.sqrt(y))+1):\n",
    "    if(y%i==0):\n",
    "      return False\n",
    "  return True\n",
    "\n",
    "year=int(input('Enter the year: '))\n",
    "f=prime(year)\n",
    "if f:\n",
    "  print(f'Given year is a prime number.')\n",
    "else:\n",
    "  print(f'Given year is not a prime number.')\n",
    "\n"
   ]
  },
  {
   "cell_type": "markdown",
   "metadata": {
    "id": "IcSukIu5pKHJ"
   },
   "source": [
    "28. Create a program that sorts three numbers in ascending order using conditional statements."
   ]
  },
  {
   "cell_type": "code",
   "execution_count": null,
   "metadata": {
    "colab": {
     "base_uri": "https://localhost:8080/"
    },
    "id": "oiWSOpr9UBim",
    "outputId": "ccc729f4-cf29-4442-f265-a2eaf1bfdf4a"
   },
   "outputs": [
    {
     "name": "stdout",
     "output_type": "stream",
     "text": [
      "Enter the 3 numbers: 7 6 5\n",
      "Before Sorting: [7, 6, 5]\n",
      "After Sorting in ascending order: [5, 6, 7]\n"
     ]
    }
   ],
   "source": [
    "n=3\n",
    "l=list([int(i) for i in input(f'Enter the {n} numbers: ').split()[:n]])\n",
    "print(f'Before Sorting: {l}')\n",
    "for i in range(1,len(l)):\n",
    "  swap=False\n",
    "  for j in range(len(l)-i):\n",
    "    if l[j]>l[j+1]:\n",
    "      l[j],l[j+1]=l[j+1],l[j]\n",
    "      swap=True\n",
    "    #print(l);\n",
    "  if swap==False:\n",
    "    break\n",
    "print(f'After Sorting in ascending order: {l}')"
   ]
  },
  {
   "cell_type": "markdown",
   "metadata": {
    "id": "RKXeYuh5pKAA"
   },
   "source": [
    "29. Build a program that determines the roots of a quartic equation using numerical methods."
   ]
  },
  {
   "cell_type": "code",
   "execution_count": null,
   "metadata": {
    "colab": {
     "base_uri": "https://localhost:8080/"
    },
    "id": "d05Md8nkjSBU",
    "outputId": "9fed7e0a-428d-4490-9383-927ea4a27a0a"
   },
   "outputs": [
    {
     "name": "stdout",
     "output_type": "stream",
     "text": [
      "Enter coefficient a: 2\n",
      "Enter coefficient b: 5\n",
      "Enter coefficient c: 8\n",
      "Enter an initial guess: 6\n",
      "Root: 42.38817458649303\n"
     ]
    }
   ],
   "source": [
    "# Function to find the roots of a quadratic equation using Newton-Raphson method.\n",
    "def find_roots_newton_raphson(a, b, c, initial_guess, tolerance=1e-6, max_iterations=100):\n",
    "   x0 = initial_guess\n",
    "\n",
    "   for _ in range(max_iterations):\n",
    "       f_x0 = a * x0**2 + b * x0 + c\n",
    "       f_prime_x0 = 2 * a * x0 + b\n",
    "\n",
    "       x1 = x0 - f_x0 / f_prime_x0\n",
    "\n",
    "       if abs(x1 - x0) < tolerance:\n",
    "           return x1\n",
    "\n",
    "       x0 = x1\n",
    "\n",
    "   # If max_iterations reached, return the last approximation\n",
    "   return x0\n",
    "\n",
    "# Input coefficients of the quadratic equation\n",
    "a = float(input(\"Enter coefficient a: \"))\n",
    "b = float(input(\"Enter coefficient b: \"))\n",
    "c = float(input(\"Enter coefficient c: \"))\n",
    "\n",
    "# Input an initial guess\n",
    "initial_guess = float(input(\"Enter an initial guess: \"))\n",
    "\n",
    "# Find and print the root\n",
    "root = find_roots_newton_raphson(a, b, c, initial_guess)\n",
    "print(\"Root:\", root)"
   ]
  },
  {
   "cell_type": "markdown",
   "metadata": {
    "id": "KkLKAifvo4w3"
   },
   "source": [
    "30. Write a program that calculates the BMI (Body Mass Index) and provides health recommendations based\n",
    "on the user's input."
   ]
  },
  {
   "cell_type": "code",
   "execution_count": null,
   "metadata": {
    "colab": {
     "base_uri": "https://localhost:8080/"
    },
    "id": "PQD5MuaSpPS3",
    "outputId": "03839ffa-c173-4483-e66c-d2f23d5184ea"
   },
   "outputs": [
    {
     "name": "stdout",
     "output_type": "stream",
     "text": [
      "Enter the BMI:  24.7\n",
      "Normal: You are healthy.\n"
     ]
    }
   ],
   "source": [
    "n=float(input('Enter the BMI:  '))\n",
    "if n<18.5:\n",
    "  print('Underweight: You need to gain Weight.')\n",
    "elif n<25:\n",
    "  print('Normal: You are healthy.')\n",
    "elif n<30:\n",
    "  print('Overweight: You need to loose some Weight.')\n",
    "else:\n",
    "  print('Obese: : You need to loose Weight.')"
   ]
  },
  {
   "cell_type": "markdown",
   "metadata": {
    "id": "vhbALoEBoQl_"
   },
   "source": [
    "# Challenge Level:"
   ]
  },
  {
   "cell_type": "markdown",
   "metadata": {
    "id": "1xgTJbIAqhmY"
   },
   "source": [
    "31. Create a program that validates a password based on complexity rules (length, characters, etc.)."
   ]
  },
  {
   "cell_type": "code",
   "execution_count": null,
   "metadata": {
    "colab": {
     "base_uri": "https://localhost:8080/"
    },
    "id": "OVGQjpElqhM5",
    "outputId": "d86957a6-2ba6-433b-f840-1b100d733efc"
   },
   "outputs": [
    {
     "name": "stdout",
     "output_type": "stream",
     "text": [
      "Enter the password: pasv4h@k0!\n",
      "It is a very Strong Password.\n"
     ]
    }
   ],
   "source": [
    "import string\n",
    "\n",
    "pswd=input('Enter the password: ')\n",
    "let,num,spchar=string.ascii_letters,string.digits,string.punctuation\n",
    "pswd_count=l_count=n_count=sp_count=0\n",
    "for x in pswd:\n",
    "  pswd_count+=1\n",
    "  if x in let:\n",
    "    l_count+=1\n",
    "  if x in num:\n",
    "    n_count+=1\n",
    "  if x in spchar:\n",
    "    sp_count+=1\n",
    "\n",
    "if(l_count>0 and n_count>0 and sp_count>0):\n",
    "  if(pswd_count>=8):\n",
    "    print('It is a very Strong Password.')\n",
    "  elif(pswd_count>=6):\n",
    "    print('It is a Strong Password.')\n",
    "  elif(pswd_count>=4):\n",
    "    print('It is a medium Password.')\n",
    "  else:\n",
    "    print('It is a weak Password.')\n",
    "elif((l_count>0 and n_count>0) or (n_count>0 and sp_count>0) or (l_count>0 and sp_count>0)):\n",
    "  if(pswd_count>=12):\n",
    "    print('It is a very Strong Password.')\n",
    "  elif(pswd_count>=8):\n",
    "    print('It is a Strong Password.')\n",
    "  elif(pswd_count>=6):\n",
    "    print('It is a medium Password.')\n",
    "  elif(pswd_count>=4):\n",
    "    print('It is a weak Password.')\n",
    "  else:\n",
    "    print('It is a very weak Password.')\n",
    "else:\n",
    "  if(pswd_count>=8):\n",
    "    print('It is a weak Password.')\n",
    "  else:\n",
    "    print('It is a very weak Password.')"
   ]
  },
  {
   "cell_type": "markdown",
   "metadata": {
    "id": "f_OF9Z3uvuX2"
   },
   "source": [
    "32. Develop a program that performs matrix addition and subtraction based on user input."
   ]
  },
  {
   "cell_type": "code",
   "execution_count": null,
   "metadata": {
    "colab": {
     "base_uri": "https://localhost:8080/"
    },
    "id": "2ioed5vsvuFW",
    "outputId": "7c2f9fcf-de4c-4b64-9063-4de95366487f"
   },
   "outputs": [
    {
     "name": "stdout",
     "output_type": "stream",
     "text": [
      "Enter the number of rows:2\n",
      "Enter the number of columns:2\n",
      "Enter the values for the first matrix: \n",
      "Enter the values for 1-th row:\n",
      "5\n",
      "3\n",
      "Enter the values for 2-th row:\n",
      "6\n",
      "7\n",
      "Enter the values for the second matrix: \n",
      "Enter the values for 1-th row:\n",
      "2\n",
      "7\n",
      "Enter the values for 2-th row:\n",
      "5\n",
      "8\n",
      "Printing elements of first matrix:\n",
      "5  3  \n",
      "6  7  \n",
      "Printing elements of second matrix:\n",
      "2  7  \n",
      "5  8  \n",
      "After Addition:\n",
      "7  10  \n",
      "11  15  \n",
      "After Subtraction:\n",
      "3  -4  \n",
      "1  -1  \n"
     ]
    }
   ],
   "source": [
    "def print_matrix(matrix):\n",
    "  for row in matrix:\n",
    "    for element in row:\n",
    "        print(element, end=\"  \")\n",
    "    print()\n",
    "\n",
    "def create_matrix(r,c):\n",
    "  matrix=[]\n",
    "  for i in range(R):\n",
    "    a =[]\n",
    "    print(f'Enter the values for {i+1}-th row:')\n",
    "    for j in range(C):\n",
    "         a.append(int(input()))\n",
    "    matrix.append(a)\n",
    "  return matrix\n",
    "\n",
    "R = int(input(\"Enter the number of rows:\"))\n",
    "C = int(input(\"Enter the number of columns:\"))\n",
    "\n",
    "print('Enter the values for the first matrix: ')\n",
    "matrix1=create_matrix(R,C)\n",
    "print('Enter the values for the second matrix: ')\n",
    "matrix2=create_matrix(R,C)\n",
    "print('Printing elements of first matrix:')\n",
    "print_matrix(matrix1)\n",
    "print('Printing elements of second matrix:')\n",
    "print_matrix(matrix2)\n",
    "add_result, sub_result = [[0, 0], [0, 0]],[[0, 0], [0, 0]]\n",
    "for i in range(len(matrix1)):\n",
    "    for j in range(len(matrix1[0])):\n",
    "        add_result[i][j] = matrix1[i][j] + matrix2[i][j]\n",
    "        sub_result[i][j] = matrix1[i][j] - matrix2[i][j]\n",
    "\n",
    "print('After Addition:')\n",
    "print_matrix(add_result)\n",
    "print('After Subtraction:')\n",
    "print_matrix(sub_result)"
   ]
  },
  {
   "cell_type": "markdown",
   "metadata": {
    "id": "GJNoYPWi4enZ"
   },
   "source": [
    "33. Write a program that calculates the greatest common divisor (GCD) of two numbers using the Euclidean\n",
    "algorithm."
   ]
  },
  {
   "cell_type": "code",
   "execution_count": 2,
   "metadata": {
    "id": "AxgLgjqY4eVZ"
   },
   "outputs": [
    {
     "name": "stdout",
     "output_type": "stream",
     "text": [
      "The GCD of 52 and 14 is: 2\n"
     ]
    }
   ],
   "source": [
    "def gcd_euclidean(a, b):\n",
    "    while b:\n",
    "        a, b = b, a % b\n",
    "    return a\n",
    "\n",
    "# Example usage\n",
    "num1 = 52\n",
    "num2 = 14\n",
    "gcd_result = gcd_euclidean(num1, num2)\n",
    "print(f\"The GCD of {num1} and {num2} is: {gcd_result}\")\n"
   ]
  },
  {
   "cell_type": "markdown",
   "metadata": {
    "id": "mqlioZrB4pso"
   },
   "source": [
    "34. Build a program that performs matrix multiplication using nested loops and conditional statements."
   ]
  },
  {
   "cell_type": "code",
   "execution_count": null,
   "metadata": {
    "colab": {
     "base_uri": "https://localhost:8080/"
    },
    "id": "evle85764qgZ",
    "outputId": "cd2dad8d-f130-4434-e0de-ea573e902f1f"
   },
   "outputs": [
    {
     "name": "stdout",
     "output_type": "stream",
     "text": [
      "Enter the values for the first matrix: \n",
      "Enter the number of rows:2\n",
      "Enter the number of columns:2\n",
      "Enter the values for 1-th row:\n",
      "56\n",
      "45\n",
      "Enter the values for 2-th row:\n",
      "87\n",
      "27\n",
      "Enter the values for the second matrix: \n",
      "Enter the number of rows:2\n",
      "Enter the number of columns:2\n",
      "Enter the values for 1-th row:\n",
      "25\n",
      "75\n",
      "Enter the values for 2-th row:\n",
      "48\n",
      "36\n",
      "Printing elements of first matrix:\n",
      "[56, 45]\n",
      "[87, 27]\n",
      "Printing elements of second matrix:\n",
      "[25, 75]\n",
      "[48, 36]\n",
      "After Multiplication:\n",
      "[3560, 5820]\n",
      "[3471, 7497]\n"
     ]
    }
   ],
   "source": [
    "def print_matrix(matrix):\n",
    "  for x in matrix:\n",
    "    print(x)\n",
    "\n",
    "def create_matrix():\n",
    "  R = int(input(\"Enter the number of rows:\"))\n",
    "  C = int(input(\"Enter the number of columns:\"))\n",
    "  matrix=[]\n",
    "  for i in range(R):\n",
    "    a =[]\n",
    "    print(f'Enter the values for {i+1}-th row:')\n",
    "    for j in range(C):\n",
    "         a.append(int(input()))\n",
    "    matrix.append(a)\n",
    "  return matrix,R,C\n",
    "\n",
    "print('Enter the values for the first matrix: ')\n",
    "matrix1,r1,c1=create_matrix()\n",
    "print('Enter the values for the second matrix: ')\n",
    "matrix2,r2,c2=create_matrix()\n",
    "print('Printing elements of first matrix:')\n",
    "print_matrix(matrix1)\n",
    "print('Printing elements of second matrix:')\n",
    "print_matrix(matrix2)\n",
    "\n",
    "if(c1!=r2):\n",
    "  print('Multiplication is not possible.')\n",
    "else:\n",
    "  result=[[0 for j in range(c2)] for i in range(r1)]\n",
    "  for i in range(r1):\n",
    "    # iterate through columns of Y\n",
    "    for j in range(c2):\n",
    "      # iterate through rows of Y\n",
    "      for k in range(r2):\n",
    "        result[i][j] += matrix1[i][k] * matrix2[k][j]\n",
    "\n",
    "  print('After Multiplication:')\n",
    "  print_matrix(result)"
   ]
  },
  {
   "cell_type": "markdown",
   "metadata": {
    "id": "UzSvREMu7r0b"
   },
   "source": [
    "35. Create a program that simulates a basic text-based tic-tac-toe game against the computer."
   ]
  },
  {
   "cell_type": "code",
   "execution_count": null,
   "metadata": {
    "colab": {
     "base_uri": "https://localhost:8080/"
    },
    "id": "cy4aflp0REFP",
    "outputId": "dedd7ee5-4268-4089-a8fb-95aa9ebe0623"
   },
   "outputs": [
    {
     "name": "stdout",
     "output_type": "stream",
     "text": [
      "Choose a number from 0-8 to play.\n",
      "\t__________________\n",
      "\t|  0  |  1  |  2 |\n",
      "\t|----------------|\n",
      "\t|  3  |  4  |  5 |\n",
      "\t|----------------|\n",
      "\t|  6  |  7  |  8 |\n",
      "\t|________________|\n",
      "Comp turn...4\n",
      "\t___________________\n",
      "\t|     |     |     |  \n",
      "\t|_________________|\n",
      "\t|     |  X  |     |  \n",
      "\t|_________________|\n",
      "\t|     |     |     |  \n",
      "\t|_________________|\n",
      "Your Turn...0\n",
      "\t___________________\n",
      "\t|  O  |     |     |  \n",
      "\t|_________________|\n",
      "\t|     |  X  |     |  \n",
      "\t|_________________|\n",
      "\t|     |     |     |  \n",
      "\t|_________________|\n",
      "Comp turn...7\n",
      "\t___________________\n",
      "\t|  O  |     |     |  \n",
      "\t|_________________|\n",
      "\t|     |  X  |     |  \n",
      "\t|_________________|\n",
      "\t|     |  X  |     |  \n",
      "\t|_________________|\n",
      "Your Turn...2\n",
      "\t___________________\n",
      "\t|  O  |     |  O  |  \n",
      "\t|_________________|\n",
      "\t|     |  X  |     |  \n",
      "\t|_________________|\n",
      "\t|     |  X  |     |  \n",
      "\t|_________________|\n",
      "Comp turn...8\n",
      "\t___________________\n",
      "\t|  O  |     |  O  |  \n",
      "\t|_________________|\n",
      "\t|     |  X  |     |  \n",
      "\t|_________________|\n",
      "\t|     |  X  |  X  |  \n",
      "\t|_________________|\n",
      "Your Turn...3\n",
      "\t___________________\n",
      "\t|  O  |     |  O  |  \n",
      "\t|_________________|\n",
      "\t|  O  |  X  |     |  \n",
      "\t|_________________|\n",
      "\t|     |  X  |  X  |  \n",
      "\t|_________________|\n",
      "Comp turn...6\n",
      "\t___________________\n",
      "\t|  O  |     |  O  |  \n",
      "\t|_________________|\n",
      "\t|  O  |  X  |     |  \n",
      "\t|_________________|\n",
      "\t|  X  |  X  |  X  |  \n",
      "\t|_________________|\n",
      "Computer wins the game.\n"
     ]
    }
   ],
   "source": [
    "from random import randint as r,choice as c\n",
    "\n",
    "def print_matrix(matrix):\n",
    "  print('\\t___________________',end='')\n",
    "  for x in matrix:\n",
    "    print('\\n\\t|  ',end='')\n",
    "    for y in x:\n",
    "      if y!=0:\n",
    "        print(y,end=\"  |  \")\n",
    "\n",
    "      else:\n",
    "        print(' ',end=\"  |  \")\n",
    "    print('\\n\\t|_________________|',end='')\n",
    "  print()\n",
    "\n",
    "def put_value(ch,val,n,r):\n",
    "  quit=True\n",
    "  while quit:\n",
    "    try:\n",
    "      n.remove(ch)\n",
    "      quit=False\n",
    "    except:\n",
    "      print('Please choose a empty place.')\n",
    "      ch=int(input('Your Turn...'))\n",
    "  r[ch//3][ch%3]=val\n",
    "  #print(r)\n",
    "  return r\n",
    "\n",
    "def check_dig_win(b):\n",
    "  for i in range(2):\n",
    "    if(b[i][i]==0):\n",
    "      return False,0\n",
    "    if(b[i][i]!=b[i+1][i+1]):\n",
    "      return False,0\n",
    "  return True,b[i][i]\n",
    "\n",
    "def check_bdig_win(b):\n",
    "  for i in range(2):\n",
    "    if(b[i][i]==0):\n",
    "      return False,0\n",
    "    if(b[i][2-i]!=b[i+1][2-(i+1)]):\n",
    "      return False,0\n",
    "  return True,b[i][2-i]\n",
    "\n",
    "def check_row_win(b):\n",
    "  for x in b:\n",
    "    flag,a=True,0\n",
    "    for i in range(len(x)-1):\n",
    "      if(x[i]==0):\n",
    "        flag=False\n",
    "        break\n",
    "      if(x[i]!=x[i+1]):\n",
    "        flag=False\n",
    "        break\n",
    "    if flag:\n",
    "      a=x[i]\n",
    "      break\n",
    "  return flag,a\n",
    "\n",
    "'''\n",
    "def check_row_win(b):\n",
    "  for i in range(3):\n",
    "    flag,a=True,0\n",
    "    for j in range(2):\n",
    "      if(b[i][j]==0):\n",
    "        flag=False\n",
    "        break\n",
    "      if(b[i][j]!=b[i][j+1]):\n",
    "        flag=False\n",
    "        break\n",
    "    if flag:\n",
    "      print('win')\n",
    "      a=b[i][j]\n",
    "      break\n",
    "  return flag,a\n",
    "'''\n",
    "\n",
    "def check_col_win(b):\n",
    "  for i in range(3):\n",
    "    flag,a=True,0\n",
    "    for j in range(2):\n",
    "      if(b[j][i]==0):\n",
    "        flag=False\n",
    "        break\n",
    "      if(b[j][i]!=b[j+1][i]):\n",
    "        flag=False\n",
    "        break\n",
    "    if flag:\n",
    "      print('col win')\n",
    "      a=b[j][i]\n",
    "      break\n",
    "  return flag,a\n",
    "\n",
    "def check_win(b):\n",
    "  f1,w1=check_dig_win(b)\n",
    "  f2,w2=check_bdig_win(b)\n",
    "  f3,w3=check_row_win(b)\n",
    "  f4,w4=check_col_win(b)\n",
    "  if f1 or f2 or f3 or f4:\n",
    "    r=list(filter(lambda a:a!=0,[w1,w2,w3,w4]))\n",
    "    return r[0]\n",
    "  else:\n",
    "    return False\n",
    "\n",
    "def check_winner(check):\n",
    "  if check=='X':\n",
    "    o='Computer'\n",
    "  else:\n",
    "    o='Player'\n",
    "  print(f'{o} wins the game.')\n",
    "\n",
    "#main code\n",
    "print(f'''Choose a number from 0-8 to play.\n",
    "\\t__________________\n",
    "\\t|  0  |  1  |  2 |\n",
    "\\t|----------------|\n",
    "\\t|  3  |  4  |  5 |\n",
    "\\t|----------------|\n",
    "\\t|  6  |  7  |  8 |\n",
    "\\t|________________|''')\n",
    "board=[[0 for j in range(3)] for i in range(3)]\n",
    "numbers=[0,1,2,3,4,5,6,7,8]\n",
    "while True:\n",
    "  print('Comp turn...',end=\"\")\n",
    "  comp=c(numbers)\n",
    "  #comp=int(input())\n",
    "  print(comp)\n",
    "  board=put_value(comp,'X',numbers,board)\n",
    "  print_matrix(board)\n",
    "  check=check_win(board)\n",
    "  if check!=False:\n",
    "    check_winner(check)\n",
    "    break\n",
    "  if len(numbers) == 0:\n",
    "    print('Draw')\n",
    "    break\n",
    "  ch=int(input('Your Turn...'))\n",
    "  board=put_value(ch,'O',numbers,board)\n",
    "  print_matrix(board)\n",
    "  check=check_win(board)\n",
    "  if check!=False:\n",
    "    check_winner(check)\n",
    "    break"
   ]
  },
  {
   "cell_type": "markdown",
   "metadata": {
    "id": "8Z9udl_S7uBJ"
   },
   "source": [
    "36. Write a program that generates Fibonacci numbers up to a specified term using iterative methods."
   ]
  },
  {
   "cell_type": "code",
   "execution_count": null,
   "metadata": {
    "colab": {
     "base_uri": "https://localhost:8080/"
    },
    "id": "xWY0D-Ao7wRk",
    "outputId": "feb233aa-01f0-4ac6-c7d4-721c25cc1c40"
   },
   "outputs": [
    {
     "name": "stdout",
     "output_type": "stream",
     "text": [
      "How many terms the user wants to print? 7\n",
      "The fibonacci sequence:\n",
      "0 1 1 2 3 5 8 "
     ]
    }
   ],
   "source": [
    "n = int(input (\"How many terms the user wants to print? \"))\n",
    "a = 0\n",
    "b = 1\n",
    "count = 0\n",
    "\n",
    "if n <= 0:\n",
    "    print (\"Please enter a positive integer, the given number is not valid\")\n",
    "\n",
    "elif n == 1:\n",
    "    print (\"The Fibonacci sequence of the numbers up to\", n, \": \")\n",
    "    print(a)\n",
    "\n",
    "else:\n",
    "    print (\"The fibonacci sequence:\")\n",
    "    while count < n:\n",
    "        print(a,end=\" \")\n",
    "        c = a + b\n",
    "        a = b\n",
    "        b = c\n",
    "        count += 1"
   ]
  },
  {
   "cell_type": "markdown",
   "metadata": {
    "id": "qypgwdZk9cnJ"
   },
   "source": [
    "37. Develop a program that calculates the nth term of the Fibonacci sequence using memoization."
   ]
  },
  {
   "cell_type": "code",
   "execution_count": null,
   "metadata": {
    "colab": {
     "base_uri": "https://localhost:8080/"
    },
    "id": "qDivGq9N9b2q",
    "outputId": "78e6b60a-efa0-497e-b15d-9540afbc2b81"
   },
   "outputs": [
    {
     "name": "stdout",
     "output_type": "stream",
     "text": [
      "Enter the value of n: 7\n",
      "The n-th fibonacci number is: 8\n"
     ]
    }
   ],
   "source": [
    "n = int(input (\"Enter the value of n: \"))\n",
    "a = 0\n",
    "b = 1\n",
    "count = 0\n",
    "if n <= 0:\n",
    "    print (\"Please enter a positive integer, the given number is not valid\")\n",
    "\n",
    "elif n == 1:\n",
    "    print (\"The Fibonacci sequence of the numbers up to\", n, \": \")\n",
    "    print(a)\n",
    "\n",
    "else:\n",
    "    while count < n-1:\n",
    "        c = a + b\n",
    "        a = b\n",
    "        b = c\n",
    "        count += 1\n",
    "    print (f'The n-th fibonacci number is: {a}')"
   ]
  },
  {
   "cell_type": "markdown",
   "metadata": {
    "id": "CqZvTxx1_J6G"
   },
   "source": [
    "38. Create a program that generates a calendar for a given month and year using conditional statements."
   ]
  },
  {
   "cell_type": "code",
   "execution_count": null,
   "metadata": {
    "colab": {
     "base_uri": "https://localhost:8080/"
    },
    "id": "0Yimm19k_N4_",
    "outputId": "b0871dab-7bd9-48a5-d8f1-ad32d01e7970"
   },
   "outputs": [
    {
     "name": "stdout",
     "output_type": "stream",
     "text": [
      "Enter the Month: 2\n",
      "Enter the Year: 2000\n",
      "2\n",
      "\n",
      "\t\tFeb\t2000\n",
      "Mo\tTu\tWe\tTh\tFr\tSa\tSu\n",
      "\n",
      "\t\t1\t2\t3\t4\t5\t\n",
      "6\t7\t8\t9\t10\t11\t12\t\n",
      "13\t14\t15\t16\t17\t18\t19\t\n",
      "20\t21\t22\t23\t24\t25\t26\t\n",
      "27\t28\t29\t"
     ]
    }
   ],
   "source": [
    "def dayofweek(m, y):\n",
    "  d=1\n",
    "  t = [ 0, 3, 2, 5, 0, 3, 5, 1, 4, 6, 2, 4 ]\n",
    "  y -= m < 3\n",
    "  return (( y + int(y / 4) - int(y / 100) + int(y / 400) + t[m - 1] + d) % 7)\n",
    "\n",
    "def leapyear(year):\n",
    "  if(year%400==0):\n",
    "    return True\n",
    "  elif (year%4==0 and y%100!=0):\n",
    "    return True\n",
    "  else:\n",
    "    return False\n",
    "\n",
    "# Driver Code\n",
    "mon = int(input(\"Enter the Month: \"))\n",
    "year = int(input(\"Enter the Year: \"))\n",
    "month=['Jan','Feb','Mar','Apr','May','Jun','Jul','Aug','Sept','Oct','Nov','Dec']\n",
    "day = dayofweek(mon, year)\n",
    "print(day)\n",
    "l1=[1,3,5,7,8,10,12]\n",
    "l2=[4,6,9,11]\n",
    "print(f'''\n",
    "\\t\\t{month[mon-1]}\\t{year}\n",
    "Mo\\tTu\\tWe\\tTh\\tFr\\tSa\\tSu\n",
    "''')\n",
    "c=0\n",
    "if mon in l1:\n",
    "  n=31\n",
    "elif mon in l2:\n",
    "  n=30\n",
    "else:\n",
    "  y=leapyear(year)\n",
    "  if y:\n",
    "    n=29\n",
    "  else:\n",
    "    n=28\n",
    "for i in range(day):\n",
    "  print(end=\"\\t\")\n",
    "  c+=1\n",
    "for i in range(n):\n",
    "  if(c%7==0):\n",
    "    print()\n",
    "  c+=1\n",
    "  print(i+1,end=\"\\t\")\n"
   ]
  },
  {
   "cell_type": "markdown",
   "metadata": {
    "id": "RMDNOSWLoXTa"
   },
   "source": [
    "39. Build a program that simulates a basic text-based blackjack game against the computer.\n",
    "\n"
   ]
  },
  {
   "cell_type": "code",
   "execution_count": null,
   "metadata": {
    "colab": {
     "base_uri": "https://localhost:8080/"
    },
    "id": "_ilkeJb1AFQd",
    "outputId": "ccca5611-cd16-4ad0-c79e-c3978d588973"
   },
   "outputs": [
    {
     "name": "stdout",
     "output_type": "stream",
     "text": [
      "Cards Player Has: [('9', 'Hearts'), ('Ace', 'Clubs')]\n",
      "Score Of The Player: 20\n",
      "\n",
      "\n",
      "What do you want? [\"play\" to request another card, \"stop\" to stop]: play\n",
      "Cards Player Has: [('9', 'Hearts'), ('Ace', 'Clubs'), ('King', 'Spades')]\n",
      "Score Of The Player: 30\n",
      "\n",
      "\n",
      "What do you want? [\"play\" to request another card, \"stop\" to stop]: stop\n",
      "Cards Dealer Has: [('5', 'Hearts'), ('10', 'Diamonds'), ('Jack', 'Clubs')]\n",
      "Score Of The Dealer: 25\n",
      "\n",
      "\n",
      "Cards Dealer Has: [('5', 'Hearts'), ('10', 'Diamonds'), ('Jack', 'Clubs')]\n",
      "Score Of The Dealer: 25\n",
      "Cards Player Has: [('9', 'Hearts'), ('Ace', 'Clubs'), ('King', 'Spades')]\n",
      "Score Of The Player: 30\n",
      "Player wins (Dealer Loss Because Dealer Score is exceeding 21)\n"
     ]
    }
   ],
   "source": [
    "import random\n",
    "\n",
    "card_categories = ['Hearts', 'Diamonds', 'Clubs', 'Spades']\n",
    "cards_list = ['Ace', '2', '3', '4', '5', '6', '7', '8', '9', '10', 'Jack', 'Queen', 'King']\n",
    "deck = [(card, category) for category in card_categories for card in cards_list]\n",
    "\n",
    "def card_value(card):\n",
    "\tif card[0] in ['Jack', 'Queen', 'King']:\n",
    "\t\treturn 10\n",
    "\telif card[0] == 'Ace':\n",
    "\t\treturn 11\n",
    "\telse:\n",
    "\t\treturn int(card[0])\n",
    "\n",
    "random.shuffle(deck)\n",
    "player_card = [deck.pop(), deck.pop()]\n",
    "dealer_card = [deck.pop(), deck.pop()]\n",
    "\n",
    "while True:\n",
    "\tplayer_score = sum(card_value(card) for card in player_card)\n",
    "\tdealer_score = sum(card_value(card) for card in dealer_card)\n",
    "\tprint(\"Cards Player Has:\", player_card)\n",
    "\tprint(\"Score Of The Player:\", player_score)\n",
    "\tprint(\"\\n\")\n",
    "\tchoice = input('What do you want? [\"play\" to request another card, \"stop\" to stop]: ').lower()\n",
    "\tif choice == \"play\":\n",
    "\t\tnew_card = deck.pop()\n",
    "\t\tplayer_card.append(new_card)\n",
    "\telif choice == \"stop\":\n",
    "\t\tbreak\n",
    "\telse:\n",
    "\t\tprint(\"Invalid choice. Please try again.\")\n",
    "\t\tcontinue\n",
    "\n",
    "\tif player_score > 21:\n",
    "\t\tprint(\"Cards Dealer Has:\", dealer_card)\n",
    "\t\tprint(\"Score Of The Dealer:\", dealer_score)\n",
    "\t\tprint(\"Cards Player Has:\", player_card)\n",
    "\t\tprint(\"Score Of The Player:\", player_score)\n",
    "\t\tprint(\"Dealer wins (Player Loss Because Player Score is exceeding 21)\")\n",
    "\t\tbreak\n",
    "\n",
    "while dealer_score < 17:\n",
    "\tnew_card = deck.pop()\n",
    "\tdealer_card.append(new_card)\n",
    "\tdealer_score += card_value(new_card)\n",
    "\n",
    "print(\"Cards Dealer Has:\", dealer_card)\n",
    "print(\"Score Of The Dealer:\", dealer_score)\n",
    "print(\"\\n\")\n",
    "\n",
    "if dealer_score > 21:\n",
    "\tprint(\"Cards Dealer Has:\", dealer_card)\n",
    "\tprint(\"Score Of The Dealer:\", dealer_score)\n",
    "\tprint(\"Cards Player Has:\", player_card)\n",
    "\tprint(\"Score Of The Player:\", player_score)\n",
    "\tprint(\"Player wins (Dealer Loss Because Dealer Score is exceeding 21)\")\n",
    "elif player_score > dealer_score:\n",
    "\tprint(\"Cards Dealer Has:\", dealer_card)\n",
    "\tprint(\"Score Of The Dealer:\", dealer_score)\n",
    "\tprint(\"Cards Player Has:\", player_card)\n",
    "\tprint(\"Score Of The Player:\", player_score)\n",
    "\tprint(\"Player wins (Player Has High Score than Dealer)\")\n",
    "elif dealer_score > player_score:\n",
    "\tprint(\"Cards Dealer Has:\", dealer_card)\n",
    "\tprint(\"Score Of The Dealer:\", dealer_score)\n",
    "\tprint(\"Cards Player Has:\", player_card)\n",
    "\tprint(\"Score Of The Player:\", player_score)\n",
    "\tprint(\"Dealer wins (Dealer Has High Score than Player)\")\n",
    "else:\n",
    "\tprint(\"Cards Dealer Has:\", dealer_card)\n",
    "\tprint(\"Score Of The Dealer:\", dealer_score)\n",
    "\tprint(\"Cards Player Has:\", player_card)\n",
    "\tprint(\"Score Of The Player:\", player_score)\n",
    "\tprint(\"It's a tie.\")\n"
   ]
  },
  {
   "cell_type": "markdown",
   "metadata": {
    "id": "b3YSHfi5ADUB"
   },
   "source": [
    "40. Write a program that generates the prime factors of a given number using trial division."
   ]
  },
  {
   "cell_type": "code",
   "execution_count": null,
   "metadata": {
    "colab": {
     "base_uri": "https://localhost:8080/"
    },
    "id": "7vvXd7_SACxt",
    "outputId": "81226dfd-1d83-4082-caef-03bbde855bce"
   },
   "outputs": [
    {
     "name": "stdout",
     "output_type": "stream",
     "text": [
      "Enter the number: 20\n",
      "Prime Factors of 20 is : 2 5 \n"
     ]
    }
   ],
   "source": [
    "def prime_fact(y):\n",
    "  for i in range(2,int(math.sqrt(y))+1):\n",
    "    #print(i)\n",
    "    if(y%i==0):\n",
    "      return False\n",
    "  return True\n",
    "\n",
    "n = int(input(\"Enter the number: \"))\n",
    "prime_factors=[]\n",
    "for i in range(2,(n//2)+1):\n",
    "  if(n%i==0):\n",
    "    #print(i)\n",
    "    p=prime_fact(i)\n",
    "    if p:\n",
    "      #print(i)\n",
    "      prime_factors.append(i)\n",
    "print(f'Prime Factors of {n} is :',end=\" \")\n",
    "for x in prime_factors:\n",
    "  print(x,end=\" \")\n",
    "print()"
   ]
  }
 ],
 "metadata": {
  "accelerator": "TPU",
  "colab": {
   "collapsed_sections": [
    "JV3ASardVEgU",
    "ZhkVjuEDpBmE",
    "RuenicIIntqZ",
    "blSzgqGiJP5N",
    "kvC75tF6ozy7"
   ],
   "provenance": []
  },
  "kernelspec": {
   "display_name": "Python 3 (ipykernel)",
   "language": "python",
   "name": "python3"
  },
  "language_info": {
   "codemirror_mode": {
    "name": "ipython",
    "version": 3
   },
   "file_extension": ".py",
   "mimetype": "text/x-python",
   "name": "python",
   "nbconvert_exporter": "python",
   "pygments_lexer": "ipython3",
   "version": "3.11.3"
  }
 },
 "nbformat": 4,
 "nbformat_minor": 1
}
